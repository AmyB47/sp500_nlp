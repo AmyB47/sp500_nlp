{
 "cells": [
  {
   "cell_type": "code",
   "execution_count": null,
   "id": "swiss-treaty",
   "metadata": {},
   "outputs": [],
   "source": [
    "''' more headings to remove '''"
   ]
  },
  {
   "cell_type": "code",
   "execution_count": 1,
   "id": "searching-prime",
   "metadata": {},
   "outputs": [],
   "source": [
    "import pandas as pd\n",
    "import numpy as np\n",
    "import pickle\n",
    "import datetime\n",
    "import re"
   ]
  },
  {
   "cell_type": "code",
   "execution_count": 2,
   "id": "emerging-peninsula",
   "metadata": {},
   "outputs": [],
   "source": [
    "with open('../data/preproc/preproc_text_all_years.pickle', 'rb') as read_file:\n",
    "    prepped_text = pickle.load(read_file)\n",
    "    "
   ]
  },
  {
   "cell_type": "code",
   "execution_count": 3,
   "id": "focused-updating",
   "metadata": {},
   "outputs": [
    {
     "data": {
      "text/plain": [
       "Index(['date_filed', 'filedAt', 'formType', 'accessionNo', 'ticker', 'cik',\n",
       "       'companyName', 'companyNameLong', 'linkToTxt', 'formType', 'sic',\n",
       "       'fiscalYearEnd', 'value', 'preproc_text', 'clean_text'],\n",
       "      dtype='object')"
      ]
     },
     "execution_count": 3,
     "metadata": {},
     "output_type": "execute_result"
    }
   ],
   "source": [
    "prepped_text.columns"
   ]
  },
  {
   "cell_type": "code",
   "execution_count": 4,
   "id": "silver-syntax",
   "metadata": {},
   "outputs": [
    {
     "data": {
      "text/plain": [
       "False    323915\n",
       "True       8718\n",
       "Name: clean_text, dtype: int64"
      ]
     },
     "execution_count": 4,
     "metadata": {},
     "output_type": "execute_result"
    }
   ],
   "source": [
    "prepped_text.clean_text.str.contains('—').value_counts()"
   ]
  },
  {
   "cell_type": "code",
   "execution_count": 5,
   "id": "blank-bridges",
   "metadata": {},
   "outputs": [],
   "source": [
    "# replace hyphens with nothing\n",
    "nodashes = lambda x: re.sub('—', '', x)\n",
    "\n",
    "prepped_text.loc[:,'clean_text2'] = prepped_text.loc[:,'clean_text'].map(nodashes)"
   ]
  },
  {
   "cell_type": "code",
   "execution_count": 6,
   "id": "scheduled-enemy",
   "metadata": {},
   "outputs": [
    {
     "data": {
      "text/plain": [
       "False    332633\n",
       "Name: clean_text2, dtype: int64"
      ]
     },
     "execution_count": 6,
     "metadata": {},
     "output_type": "execute_result"
    }
   ],
   "source": [
    "prepped_text.clean_text2.str.contains('—').value_counts()"
   ]
  },
  {
   "cell_type": "code",
   "execution_count": 7,
   "id": "comic-wheat",
   "metadata": {},
   "outputs": [],
   "source": [
    "headings =['item risk factors', 'items risk factors', 'item risk', 'other risk', 'at risk', 'risk measurement', \n",
    "          'risk identification and measurement', 'value at risk', 'value at risk VAR', \n",
    "          'risk factor', 'risk', 'risks', 'risk measurement and', 'other risks', 'risk factors and item',\n",
    "          'and item risk factors', 'risk factors', 'business risk', 'business risks', 'item risk factors – other',\n",
    "          'company risks', 'company risk factors', 'economic value of equity at risk', \n",
    "          'eographic risks', 'ervice risks', 'item a risk factors']"
   ]
  },
  {
   "cell_type": "code",
   "execution_count": 8,
   "id": "impressed-equilibrium",
   "metadata": {},
   "outputs": [
    {
     "data": {
      "text/plain": [
       "1992"
      ]
     },
     "execution_count": 8,
     "metadata": {},
     "output_type": "execute_result"
    }
   ],
   "source": [
    "len(prepped_text[prepped_text['clean_text2'].str.lower().isin(headings)])"
   ]
  },
  {
   "cell_type": "code",
   "execution_count": 9,
   "id": "nuclear-judgment",
   "metadata": {},
   "outputs": [
    {
     "data": {
      "text/plain": [
       "(330641, 16)"
      ]
     },
     "execution_count": 9,
     "metadata": {},
     "output_type": "execute_result"
    }
   ],
   "source": [
    "#prepped_text['clean_text3'] = prepped_text['clean_text2'].apply(lambda x: \" \".join(x.split()))\n",
    " \n",
    "f1_df = (prepped_text[~prepped_text['clean_text2'].str.lower().isin(headings)])\n",
    "f1_df.shape"
   ]
  },
  {
   "cell_type": "code",
   "execution_count": 10,
   "id": "difficult-eleven",
   "metadata": {},
   "outputs": [
    {
     "name": "stderr",
     "output_type": "stream",
     "text": [
      "/Users/amybutler/opt/anaconda3/lib/python3.8/site-packages/pandas/core/frame.py:4305: SettingWithCopyWarning: \n",
      "A value is trying to be set on a copy of a slice from a DataFrame\n",
      "\n",
      "See the caveats in the documentation: https://pandas.pydata.org/pandas-docs/stable/user_guide/indexing.html#returning-a-view-versus-a-copy\n",
      "  return super().drop(\n",
      "/Users/amybutler/opt/anaconda3/lib/python3.8/site-packages/pandas/core/frame.py:4438: SettingWithCopyWarning: \n",
      "A value is trying to be set on a copy of a slice from a DataFrame\n",
      "\n",
      "See the caveats in the documentation: https://pandas.pydata.org/pandas-docs/stable/user_guide/indexing.html#returning-a-view-versus-a-copy\n",
      "  return super().rename(\n"
     ]
    }
   ],
   "source": [
    "f1_df.drop('clean_text', axis=1, inplace=True)\n",
    "f1_df.rename(columns={'clean_text2':'clean_text'}, inplace=True)"
   ]
  },
  {
   "cell_type": "code",
   "execution_count": 11,
   "id": "accomplished-pursuit",
   "metadata": {},
   "outputs": [
    {
     "data": {
      "text/html": [
       "<div>\n",
       "<style scoped>\n",
       "    .dataframe tbody tr th:only-of-type {\n",
       "        vertical-align: middle;\n",
       "    }\n",
       "\n",
       "    .dataframe tbody tr th {\n",
       "        vertical-align: top;\n",
       "    }\n",
       "\n",
       "    .dataframe thead th {\n",
       "        text-align: right;\n",
       "    }\n",
       "</style>\n",
       "<table border=\"1\" class=\"dataframe\">\n",
       "  <thead>\n",
       "    <tr style=\"text-align: right;\">\n",
       "      <th></th>\n",
       "      <th>date_filed</th>\n",
       "      <th>filedAt</th>\n",
       "      <th>formType</th>\n",
       "      <th>accessionNo</th>\n",
       "      <th>ticker</th>\n",
       "      <th>cik</th>\n",
       "      <th>companyName</th>\n",
       "      <th>companyNameLong</th>\n",
       "      <th>linkToTxt</th>\n",
       "      <th>formType</th>\n",
       "      <th>sic</th>\n",
       "      <th>fiscalYearEnd</th>\n",
       "      <th>value</th>\n",
       "      <th>preproc_text</th>\n",
       "      <th>clean_text</th>\n",
       "    </tr>\n",
       "  </thead>\n",
       "  <tbody>\n",
       "    <tr>\n",
       "      <th>0</th>\n",
       "      <td>2020-02-19</td>\n",
       "      <td>2020-02-19T21:42:50-05:00</td>\n",
       "      <td>10-K</td>\n",
       "      <td>0001562762-20-000064</td>\n",
       "      <td>T</td>\n",
       "      <td>732717</td>\n",
       "      <td>AT&amp;T INC.</td>\n",
       "      <td>AT&amp;T INC. (Filer)</td>\n",
       "      <td>https://www.sec.gov/Archives/edgar/data/732717...</td>\n",
       "      <td>10-K</td>\n",
       "      <td>4813 Telephone Communications (No Radiotelephone)</td>\n",
       "      <td>1231</td>\n",
       "      <td>We produce and distribute high-quality video c...</td>\n",
       "      <td>We produce and distribute high quality video c...</td>\n",
       "      <td>We produce and distribute high quality video c...</td>\n",
       "    </tr>\n",
       "    <tr>\n",
       "      <th>1</th>\n",
       "      <td>2020-02-19</td>\n",
       "      <td>2020-02-19T21:42:50-05:00</td>\n",
       "      <td>10-K</td>\n",
       "      <td>0001562762-20-000064</td>\n",
       "      <td>T</td>\n",
       "      <td>732717</td>\n",
       "      <td>AT&amp;T INC.</td>\n",
       "      <td>AT&amp;T INC. (Filer)</td>\n",
       "      <td>https://www.sec.gov/Archives/edgar/data/732717...</td>\n",
       "      <td>10-K</td>\n",
       "      <td>4813 Telephone Communications (No Radiotelephone)</td>\n",
       "      <td>1231</td>\n",
       "      <td>Our costs to provide current benefits and fund...</td>\n",
       "      <td>Our costs to provide current benefits and fund...</td>\n",
       "      <td>Our cost to provide current benefit and fundin...</td>\n",
       "    </tr>\n",
       "  </tbody>\n",
       "</table>\n",
       "</div>"
      ],
      "text/plain": [
       "  date_filed                    filedAt formType           accessionNo ticker  \\\n",
       "0 2020-02-19  2020-02-19T21:42:50-05:00     10-K  0001562762-20-000064      T   \n",
       "1 2020-02-19  2020-02-19T21:42:50-05:00     10-K  0001562762-20-000064      T   \n",
       "\n",
       "      cik companyName    companyNameLong  \\\n",
       "0  732717   AT&T INC.  AT&T INC. (Filer)   \n",
       "1  732717   AT&T INC.  AT&T INC. (Filer)   \n",
       "\n",
       "                                           linkToTxt formType  \\\n",
       "0  https://www.sec.gov/Archives/edgar/data/732717...     10-K   \n",
       "1  https://www.sec.gov/Archives/edgar/data/732717...     10-K   \n",
       "\n",
       "                                                 sic fiscalYearEnd  \\\n",
       "0  4813 Telephone Communications (No Radiotelephone)          1231   \n",
       "1  4813 Telephone Communications (No Radiotelephone)          1231   \n",
       "\n",
       "                                               value  \\\n",
       "0  We produce and distribute high-quality video c...   \n",
       "1  Our costs to provide current benefits and fund...   \n",
       "\n",
       "                                        preproc_text  \\\n",
       "0  We produce and distribute high quality video c...   \n",
       "1  Our costs to provide current benefits and fund...   \n",
       "\n",
       "                                          clean_text  \n",
       "0  We produce and distribute high quality video c...  \n",
       "1  Our cost to provide current benefit and fundin...  "
      ]
     },
     "execution_count": 11,
     "metadata": {},
     "output_type": "execute_result"
    }
   ],
   "source": [
    "f1_df.head(2)"
   ]
  },
  {
   "cell_type": "code",
   "execution_count": 12,
   "id": "japanese-pottery",
   "metadata": {},
   "outputs": [],
   "source": [
    "with open('../data/preproc/clean_text_all_years.pickle', 'wb') as to_write:\n",
    "    pickle.dump(f1_df, to_write)"
   ]
  },
  {
   "cell_type": "code",
   "execution_count": null,
   "id": "cultural-administrator",
   "metadata": {},
   "outputs": [],
   "source": []
  }
 ],
 "metadata": {
  "kernelspec": {
   "display_name": "Python 3",
   "language": "python",
   "name": "python3"
  },
  "language_info": {
   "codemirror_mode": {
    "name": "ipython",
    "version": 3
   },
   "file_extension": ".py",
   "mimetype": "text/x-python",
   "name": "python",
   "nbconvert_exporter": "python",
   "pygments_lexer": "ipython3",
   "version": "3.8.2"
  }
 },
 "nbformat": 4,
 "nbformat_minor": 5
}
