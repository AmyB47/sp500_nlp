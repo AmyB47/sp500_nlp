{
 "cells": [
  {
   "cell_type": "code",
   "execution_count": null,
   "id": "liquid-houston",
   "metadata": {},
   "outputs": [],
   "source": [
    "\"\"\" K-means clustering of 22 NMF topic components \"\"\""
   ]
  },
  {
   "cell_type": "code",
   "execution_count": 11,
   "id": "frozen-notice",
   "metadata": {},
   "outputs": [],
   "source": [
    "import pickle\n",
    "import pandas as pd\n",
    "import numpy as np\n",
    "from sklearn.cluster import KMeans\n",
    "import matplotlib.pyplot as plt\n",
    "import seaborn as sns"
   ]
  },
  {
   "cell_type": "code",
   "execution_count": 3,
   "id": "conditional-pendant",
   "metadata": {},
   "outputs": [],
   "source": [
    "with open('../data/topics/NMF_22_risk_topics_FINAL.pickle', 'rb') as read_file:\n",
    "    risk_topics = pickle.load(read_file)"
   ]
  },
  {
   "cell_type": "code",
   "execution_count": 5,
   "id": "mounted-watson",
   "metadata": {},
   "outputs": [
    {
     "data": {
      "text/plain": [
       "Index(['index', 'date_filed', 'filedAt', 'formType', 'accessionNo', 'ticker',\n",
       "       'cik', 'companyName', 'companyNameLong', 'linkToTxt', 'formType', 'sic',\n",
       "       'fiscalYearEnd', 'value', 'preproc_text', 'clean_text',\n",
       "       'risk_topic_nmf', 'clean_text', 'C_0', 'C_1', 'C_2', 'C_3', 'C_4',\n",
       "       'C_5', 'C_6', 'C_7', 'C_8', 'C_9', 'C_10', 'C_11', 'C_12', 'C_13',\n",
       "       'C_14', 'C_15', 'C_16', 'C_17', 'C_18', 'C_19', 'C_20', 'C_21',\n",
       "       'risk_topics'],\n",
       "      dtype='object')"
      ]
     },
     "execution_count": 5,
     "metadata": {},
     "output_type": "execute_result"
    }
   ],
   "source": [
    "risk_topics.columns"
   ]
  },
  {
   "cell_type": "code",
   "execution_count": 7,
   "id": "extensive-psychiatry",
   "metadata": {},
   "outputs": [],
   "source": [
    "X = np.array(risk_topics[['C_0', 'C_1', 'C_2', 'C_3', 'C_4', 'C_5', 'C_6', 'C_7', 'C_8', 'C_9',\n",
    "       'C_10', 'C_11', 'C_12', 'C_13', 'C_14', 'C_15', 'C_16', 'C_17', 'C_18', 'C_19', 'C_20', 'C_21']])"
   ]
  },
  {
   "cell_type": "code",
   "execution_count": 12,
   "id": "recreational-kingston",
   "metadata": {},
   "outputs": [],
   "source": [
    "# helper function that allows us to display data in 2 dimensions an highlights the clusters\n",
    "def display_cluster(X,km=[],num_clusters=0):\n",
    "    color = 'brgcmyk'\n",
    "    alpha = 0.5\n",
    "    s = 20\n",
    "    if num_clusters == 0:\n",
    "        plt.scatter(X[:,0],X[:,1],c = color[0],alpha = alpha,s = s)\n",
    "    else:\n",
    "        for i in range(num_clusters):\n",
    "            plt.scatter(X[km.labels_==i,0],X[km.labels_==i,1],c = color[i],alpha = alpha,s=s)\n",
    "            plt.scatter(km.cluster_centers_[i][0],km.cluster_centers_[i][1],c = color[i], marker = 'x', s = 100)"
   ]
  },
  {
   "cell_type": "code",
   "execution_count": 9,
   "id": "musical-relevance",
   "metadata": {},
   "outputs": [
    {
     "data": {
      "text/plain": [
       "KMeans(n_clusters=11, n_init=5, random_state=10)"
      ]
     },
     "execution_count": 9,
     "metadata": {},
     "output_type": "execute_result"
    }
   ],
   "source": [
    "num_clusters = 11\n",
    "km = KMeans(n_clusters=num_clusters,random_state=10,n_init=5) # n_init, number of times the K-mean algorithm will run\n",
    "km.fit(X)"
   ]
  },
  {
   "cell_type": "code",
   "execution_count": 14,
   "id": "incorporate-christmas",
   "metadata": {},
   "outputs": [],
   "source": [
    "#display_cluster(X,km,num_clusters)"
   ]
  },
  {
   "cell_type": "code",
   "execution_count": 15,
   "id": "negative-ukraine",
   "metadata": {},
   "outputs": [],
   "source": [
    "clusters = pd.DataFrame(data=km.labels_.tolist(), columns=['cluster'])"
   ]
  },
  {
   "cell_type": "code",
   "execution_count": 16,
   "id": "welcome-native",
   "metadata": {},
   "outputs": [
    {
     "data": {
      "text/plain": [
       "array([ 3, 12, 11,  7,  0,  5, 14,  2, 15, 21,  6, 18, 20, 10, 19, 17,  8,\n",
       "       16,  9, 13,  4,  1])"
      ]
     },
     "execution_count": 16,
     "metadata": {},
     "output_type": "execute_result"
    }
   ],
   "source": [
    "order_centroids = km.cluster_centers_.argsort()[:, ::-1] \n",
    "order_centroids[0]"
   ]
  },
  {
   "cell_type": "code",
   "execution_count": 17,
   "id": "parental-boundary",
   "metadata": {},
   "outputs": [],
   "source": [
    "risks_clusters = pd.concat([risk_topics, clusters], axis=1)"
   ]
  },
  {
   "cell_type": "code",
   "execution_count": 18,
   "id": "alternate-stadium",
   "metadata": {},
   "outputs": [
    {
     "data": {
      "text/plain": [
       "(330641, 42)"
      ]
     },
     "execution_count": 18,
     "metadata": {},
     "output_type": "execute_result"
    }
   ],
   "source": [
    "risks_clusters.shape"
   ]
  },
  {
   "cell_type": "code",
   "execution_count": 21,
   "id": "outstanding-irish",
   "metadata": {},
   "outputs": [
    {
     "data": {
      "text/plain": [
       "Index(['index', 'date_filed', 'filedAt', 'formType', 'accessionNo', 'ticker',\n",
       "       'cik', 'companyName', 'companyNameLong', 'linkToTxt', 'formType', 'sic',\n",
       "       'fiscalYearEnd', 'value', 'preproc_text', 'clean_text',\n",
       "       'risk_topic_nmf', 'clean_text', 'C_0', 'C_1', 'C_2', 'C_3', 'C_4',\n",
       "       'C_5', 'C_6', 'C_7', 'C_8', 'C_9', 'C_10', 'C_11', 'C_12', 'C_13',\n",
       "       'C_14', 'C_15', 'C_16', 'C_17', 'C_18', 'C_19', 'C_20', 'C_21',\n",
       "       'risk_topics', 'cluster'],\n",
       "      dtype='object')"
      ]
     },
     "execution_count": 21,
     "metadata": {},
     "output_type": "execute_result"
    }
   ],
   "source": [
    "risks_clusters.columns"
   ]
  },
  {
   "cell_type": "code",
   "execution_count": 22,
   "id": "valid-receiver",
   "metadata": {},
   "outputs": [],
   "source": [
    "subset = risks_clusters[['value', 'risk_topic_nmf', 'risk_topics', 'cluster']]"
   ]
  },
  {
   "cell_type": "code",
   "execution_count": 25,
   "id": "fuzzy-crazy",
   "metadata": {},
   "outputs": [
    {
     "data": {
      "text/plain": [
       "Interest Rate        7249\n",
       "Derivatives            47\n",
       "Loans                  42\n",
       "Market                 38\n",
       "Insurance              13\n",
       "Liquidity2              8\n",
       "Liquidity1              6\n",
       "Commodity               6\n",
       "Stock                   4\n",
       "Credit                  4\n",
       "Foreign Exchange        2\n",
       "Investment              2\n",
       "Capital                 2\n",
       "Regulation              1\n",
       "Name: risk_topics, dtype: int64"
      ]
     },
     "execution_count": 25,
     "metadata": {},
     "output_type": "execute_result"
    }
   ],
   "source": [
    "subset[subset['cluster']==0].risk_topics.value_counts()"
   ]
  },
  {
   "cell_type": "code",
   "execution_count": 26,
   "id": "stuck-elizabeth",
   "metadata": {},
   "outputs": [
    {
     "data": {
      "text/plain": [
       "Risk Management        29653\n",
       "Regulation             23686\n",
       "Credit                 15722\n",
       "Insurance              13852\n",
       "Interest Rate          13518\n",
       "Market                 12505\n",
       "Capital                12228\n",
       "Investment              9924\n",
       "Product Development     9362\n",
       "Commodity               8928\n",
       "Other                   8155\n",
       "Security                7578\n",
       "Foreign Exchange        7162\n",
       "Disclosure              4340\n",
       "Loans                   4260\n",
       "Stock                   3402\n",
       "Derivatives             3022\n",
       "Liquidity2              2791\n",
       "Fair Value              2243\n",
       "Liquidity1              2182\n",
       "Accounting              1733\n",
       "Internal Control        1639\n",
       "Name: risk_topics, dtype: int64"
      ]
     },
     "execution_count": 26,
     "metadata": {},
     "output_type": "execute_result"
    }
   ],
   "source": [
    "subset[subset['cluster']==1].risk_topics.value_counts()"
   ]
  },
  {
   "cell_type": "code",
   "execution_count": 27,
   "id": "qualified-gentleman",
   "metadata": {},
   "outputs": [
    {
     "data": {
      "text/plain": [
       "Accounting    4501\n",
       "Name: risk_topics, dtype: int64"
      ]
     },
     "execution_count": 27,
     "metadata": {},
     "output_type": "execute_result"
    }
   ],
   "source": [
    "subset[subset['cluster']==2].risk_topics.value_counts()"
   ]
  },
  {
   "cell_type": "code",
   "execution_count": 28,
   "id": "recognized-trout",
   "metadata": {},
   "outputs": [
    {
     "data": {
      "text/plain": [
       "Foreign Exchange       7079\n",
       "Interest Rate           157\n",
       "Derivatives             139\n",
       "Regulation               51\n",
       "Liquidity2               37\n",
       "Commodity                13\n",
       "Other                     6\n",
       "Fair Value                3\n",
       "Market                    2\n",
       "Credit                    1\n",
       "Product Development       1\n",
       "Investment                1\n",
       "Name: risk_topics, dtype: int64"
      ]
     },
     "execution_count": 28,
     "metadata": {},
     "output_type": "execute_result"
    }
   ],
   "source": [
    "subset[subset['cluster']==3].risk_topics.value_counts()"
   ]
  },
  {
   "cell_type": "code",
   "execution_count": 29,
   "id": "placed-minister",
   "metadata": {},
   "outputs": [
    {
     "data": {
      "text/plain": [
       "Interest Rate          8082\n",
       "Derivatives            5627\n",
       "Market                 4810\n",
       "Commodity              3723\n",
       "Stock                  3022\n",
       "Liquidity2             2495\n",
       "Liquidity1             2466\n",
       "Fair Value             1563\n",
       "Other                   853\n",
       "Foreign Exchange        581\n",
       "Risk Management         453\n",
       "Credit                  366\n",
       "Investment              271\n",
       "Loans                   237\n",
       "Capital                 115\n",
       "Insurance                84\n",
       "Security                 78\n",
       "Disclosure               50\n",
       "Regulation               47\n",
       "Product Development      36\n",
       "Name: risk_topics, dtype: int64"
      ]
     },
     "execution_count": 29,
     "metadata": {},
     "output_type": "execute_result"
    }
   ],
   "source": [
    "subset[subset['cluster']==4].risk_topics.value_counts()"
   ]
  },
  {
   "cell_type": "code",
   "execution_count": 30,
   "id": "timely-explosion",
   "metadata": {},
   "outputs": [
    {
     "data": {
      "text/plain": [
       "Regulation             17711\n",
       "Insurance               8274\n",
       "Security                3239\n",
       "Other                   1460\n",
       "Commodity               1147\n",
       "Capital                  889\n",
       "Risk Management          576\n",
       "Market                   433\n",
       "Product Development      370\n",
       "Disclosure               369\n",
       "Investment               252\n",
       "Foreign Exchange         173\n",
       "Interest Rate            168\n",
       "Credit                   112\n",
       "Liquidity2               107\n",
       "Loans                     87\n",
       "Liquidity1                85\n",
       "Derivatives               43\n",
       "Internal Control          34\n",
       "Stock                     25\n",
       "Accounting                21\n",
       "Fair Value                10\n",
       "Name: risk_topics, dtype: int64"
      ]
     },
     "execution_count": 30,
     "metadata": {},
     "output_type": "execute_result"
    }
   ],
   "source": [
    "subset[subset['cluster']==5].risk_topics.value_counts()"
   ]
  },
  {
   "cell_type": "code",
   "execution_count": 31,
   "id": "honest-opposition",
   "metadata": {},
   "outputs": [
    {
     "data": {
      "text/plain": [
       "Internal Control    5786\n",
       "Accounting            11\n",
       "Security               3\n",
       "Name: risk_topics, dtype: int64"
      ]
     },
     "execution_count": 31,
     "metadata": {},
     "output_type": "execute_result"
    }
   ],
   "source": [
    "subset[subset['cluster']==6].risk_topics.value_counts()"
   ]
  },
  {
   "cell_type": "code",
   "execution_count": 32,
   "id": "handmade-meditation",
   "metadata": {},
   "outputs": [
    {
     "data": {
      "text/plain": [
       "Investment             6398\n",
       "Liquidity1              152\n",
       "Risk Management         137\n",
       "Interest Rate           104\n",
       "Market                   99\n",
       "Liquidity2               71\n",
       "Capital                  57\n",
       "Fair Value               42\n",
       "Insurance                27\n",
       "Other                    23\n",
       "Security                 18\n",
       "Loans                    14\n",
       "Commodity                11\n",
       "Product Development       4\n",
       "Regulation                3\n",
       "Foreign Exchange          3\n",
       "Credit                    2\n",
       "Disclosure                1\n",
       "Stock                     1\n",
       "Name: risk_topics, dtype: int64"
      ]
     },
     "execution_count": 32,
     "metadata": {},
     "output_type": "execute_result"
    }
   ],
   "source": [
    "subset[subset['cluster']==7].risk_topics.value_counts()"
   ]
  },
  {
   "cell_type": "code",
   "execution_count": 33,
   "id": "endangered-hunter",
   "metadata": {},
   "outputs": [
    {
     "data": {
      "text/plain": [
       "Disclosure             4538\n",
       "Regulation               39\n",
       "Other                     6\n",
       "Product Development       5\n",
       "Loans                     1\n",
       "Name: risk_topics, dtype: int64"
      ]
     },
     "execution_count": 33,
     "metadata": {},
     "output_type": "execute_result"
    }
   ],
   "source": [
    "subset[subset['cluster']==8].risk_topics.value_counts()"
   ]
  },
  {
   "cell_type": "code",
   "execution_count": 34,
   "id": "restricted-testing",
   "metadata": {},
   "outputs": [
    {
     "data": {
      "text/plain": [
       "Product Development    7334\n",
       "Regulation              285\n",
       "Insurance               279\n",
       "Commodity               160\n",
       "Market                  157\n",
       "Security                120\n",
       "Interest Rate            42\n",
       "Other                    35\n",
       "Risk Management          33\n",
       "Disclosure               10\n",
       "Investment                7\n",
       "Derivatives               6\n",
       "Foreign Exchange          6\n",
       "Loans                     6\n",
       "Credit                    5\n",
       "Liquidity1                4\n",
       "Capital                   1\n",
       "Name: risk_topics, dtype: int64"
      ]
     },
     "execution_count": 34,
     "metadata": {},
     "output_type": "execute_result"
    }
   ],
   "source": [
    "subset[subset['cluster']==9].risk_topics.value_counts()"
   ]
  },
  {
   "cell_type": "code",
   "execution_count": 35,
   "id": "alert-habitat",
   "metadata": {},
   "outputs": [
    {
     "data": {
      "text/plain": [
       "Credit                 10680\n",
       "Loans                   4702\n",
       "Liquidity2               302\n",
       "Other                    210\n",
       "Risk Management          183\n",
       "Market                   128\n",
       "Capital                   84\n",
       "Derivatives               78\n",
       "Interest Rate             75\n",
       "Security                  68\n",
       "Investment                50\n",
       "Fair Value                49\n",
       "Insurance                 35\n",
       "Commodity                 35\n",
       "Product Development       25\n",
       "Regulation                20\n",
       "Liquidity1                18\n",
       "Foreign Exchange           6\n",
       "Disclosure                 3\n",
       "Name: risk_topics, dtype: int64"
      ]
     },
     "execution_count": 35,
     "metadata": {},
     "output_type": "execute_result"
    }
   ],
   "source": [
    "subset[subset['cluster']==10].risk_topics.value_counts()"
   ]
  },
  {
   "cell_type": "code",
   "execution_count": 36,
   "id": "nonprofit-undergraduate",
   "metadata": {},
   "outputs": [
    {
     "data": {
      "text/html": [
       "<div>\n",
       "<style scoped>\n",
       "    .dataframe tbody tr th:only-of-type {\n",
       "        vertical-align: middle;\n",
       "    }\n",
       "\n",
       "    .dataframe tbody tr th {\n",
       "        vertical-align: top;\n",
       "    }\n",
       "\n",
       "    .dataframe thead th {\n",
       "        text-align: right;\n",
       "    }\n",
       "</style>\n",
       "<table border=\"1\" class=\"dataframe\">\n",
       "  <thead>\n",
       "    <tr style=\"text-align: right;\">\n",
       "      <th></th>\n",
       "      <th>index</th>\n",
       "      <th>date_filed</th>\n",
       "      <th>filedAt</th>\n",
       "      <th>formType</th>\n",
       "      <th>accessionNo</th>\n",
       "      <th>ticker</th>\n",
       "      <th>cik</th>\n",
       "      <th>companyName</th>\n",
       "      <th>companyNameLong</th>\n",
       "      <th>linkToTxt</th>\n",
       "      <th>...</th>\n",
       "      <th>C_14</th>\n",
       "      <th>C_15</th>\n",
       "      <th>C_16</th>\n",
       "      <th>C_17</th>\n",
       "      <th>C_18</th>\n",
       "      <th>C_19</th>\n",
       "      <th>C_20</th>\n",
       "      <th>C_21</th>\n",
       "      <th>risk_topics</th>\n",
       "      <th>cluster</th>\n",
       "    </tr>\n",
       "  </thead>\n",
       "  <tbody>\n",
       "    <tr>\n",
       "      <th>0</th>\n",
       "      <td>0</td>\n",
       "      <td>2020-02-19</td>\n",
       "      <td>2020-02-19T21:42:50-05:00</td>\n",
       "      <td>10-K</td>\n",
       "      <td>0001562762-20-000064</td>\n",
       "      <td>T</td>\n",
       "      <td>732717</td>\n",
       "      <td>AT&amp;T INC.</td>\n",
       "      <td>AT&amp;T INC. (Filer)</td>\n",
       "      <td>https://www.sec.gov/Archives/edgar/data/732717...</td>\n",
       "      <td>...</td>\n",
       "      <td>0.0018</td>\n",
       "      <td>0.00036</td>\n",
       "      <td>0.04513</td>\n",
       "      <td>0.06339</td>\n",
       "      <td>0.01076</td>\n",
       "      <td>0.00853</td>\n",
       "      <td>0.00754</td>\n",
       "      <td>0.02536</td>\n",
       "      <td>Product Development</td>\n",
       "      <td>1</td>\n",
       "    </tr>\n",
       "    <tr>\n",
       "      <th>1</th>\n",
       "      <td>1</td>\n",
       "      <td>2020-02-19</td>\n",
       "      <td>2020-02-19T21:42:50-05:00</td>\n",
       "      <td>10-K</td>\n",
       "      <td>0001562762-20-000064</td>\n",
       "      <td>T</td>\n",
       "      <td>732717</td>\n",
       "      <td>AT&amp;T INC.</td>\n",
       "      <td>AT&amp;T INC. (Filer)</td>\n",
       "      <td>https://www.sec.gov/Archives/edgar/data/732717...</td>\n",
       "      <td>...</td>\n",
       "      <td>0.0000</td>\n",
       "      <td>0.00000</td>\n",
       "      <td>0.00000</td>\n",
       "      <td>0.00951</td>\n",
       "      <td>0.00000</td>\n",
       "      <td>0.03202</td>\n",
       "      <td>0.04999</td>\n",
       "      <td>0.05590</td>\n",
       "      <td>Investment</td>\n",
       "      <td>7</td>\n",
       "    </tr>\n",
       "  </tbody>\n",
       "</table>\n",
       "<p>2 rows × 42 columns</p>\n",
       "</div>"
      ],
      "text/plain": [
       "   index date_filed                    filedAt formType           accessionNo  \\\n",
       "0      0 2020-02-19  2020-02-19T21:42:50-05:00     10-K  0001562762-20-000064   \n",
       "1      1 2020-02-19  2020-02-19T21:42:50-05:00     10-K  0001562762-20-000064   \n",
       "\n",
       "  ticker     cik companyName    companyNameLong  \\\n",
       "0      T  732717   AT&T INC.  AT&T INC. (Filer)   \n",
       "1      T  732717   AT&T INC.  AT&T INC. (Filer)   \n",
       "\n",
       "                                           linkToTxt  ...    C_14     C_15  \\\n",
       "0  https://www.sec.gov/Archives/edgar/data/732717...  ...  0.0018  0.00036   \n",
       "1  https://www.sec.gov/Archives/edgar/data/732717...  ...  0.0000  0.00000   \n",
       "\n",
       "      C_16     C_17     C_18     C_19     C_20     C_21          risk_topics  \\\n",
       "0  0.04513  0.06339  0.01076  0.00853  0.00754  0.02536  Product Development   \n",
       "1  0.00000  0.00951  0.00000  0.03202  0.04999  0.05590           Investment   \n",
       "\n",
       "   cluster  \n",
       "0        1  \n",
       "1        7  \n",
       "\n",
       "[2 rows x 42 columns]"
      ]
     },
     "execution_count": 36,
     "metadata": {},
     "output_type": "execute_result"
    }
   ],
   "source": [
    "risks_clusters.head(2)"
   ]
  },
  {
   "cell_type": "code",
   "execution_count": 37,
   "id": "legislative-aerospace",
   "metadata": {},
   "outputs": [],
   "source": [
    "clusters_info = risks_clusters[['date_filed','ticker', 'companyName', 'sic',\n",
    "      'value', 'risk_topic_nmf', 'C_0', 'C_1', 'C_2', 'C_3', 'C_4',\n",
    "       'C_5', 'C_6', 'C_7', 'C_8', 'C_9', 'C_10', 'C_11', 'C_12', 'C_13',\n",
    "       'C_14', 'C_15', 'C_16', 'C_17', 'C_18', 'C_19', 'C_20', 'C_21',\n",
    "       'risk_topics', 'cluster']]"
   ]
  },
  {
   "cell_type": "code",
   "execution_count": 38,
   "id": "weighted-editing",
   "metadata": {},
   "outputs": [],
   "source": [
    "clusters_info.to_excel('risk_clusters_11.xlsx', index=False)"
   ]
  },
  {
   "cell_type": "code",
   "execution_count": null,
   "id": "hairy-voice",
   "metadata": {},
   "outputs": [],
   "source": []
  }
 ],
 "metadata": {
  "kernelspec": {
   "display_name": "Python 3",
   "language": "python",
   "name": "python3"
  },
  "language_info": {
   "codemirror_mode": {
    "name": "ipython",
    "version": 3
   },
   "file_extension": ".py",
   "mimetype": "text/x-python",
   "name": "python",
   "nbconvert_exporter": "python",
   "pygments_lexer": "ipython3",
   "version": "3.8.2"
  }
 },
 "nbformat": 4,
 "nbformat_minor": 5
}
