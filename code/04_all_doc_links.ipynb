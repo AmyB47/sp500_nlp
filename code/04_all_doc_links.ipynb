{
 "cells": [
  {
   "cell_type": "code",
   "execution_count": 13,
   "id": "thousand-spending",
   "metadata": {},
   "outputs": [
    {
     "data": {
      "text/plain": [
       "''"
      ]
     },
     "execution_count": 13,
     "metadata": {},
     "output_type": "execute_result"
    }
   ],
   "source": [
    "\"\"\"\n",
    "combine the multiple dataframes created after SEC API data pull\n",
    "\"\"\""
   ]
  },
  {
   "cell_type": "code",
   "execution_count": 1,
   "id": "informative-tablet",
   "metadata": {},
   "outputs": [],
   "source": [
    "import pickle\n",
    "import pandas as pd\n",
    "import numpy as np\n",
    "\n",
    "import os\n",
    "import glob"
   ]
  },
  {
   "cell_type": "code",
   "execution_count": 2,
   "id": "color-stable",
   "metadata": {},
   "outputs": [],
   "source": [
    "def url_list_df(year):\n",
    "\n",
    "    urls_ = pd.DataFrame()\n",
    "\n",
    "    for file_name in glob.glob('../data/' + str(year) + '/year_*.pickle'):\n",
    "        try:\n",
    "            x = pd.read_pickle(file_name)\n",
    "            urls_ = pd.concat([urls_,x],axis=0)\n",
    "            print('APPENDED: ', file_name)\n",
    "        except:\n",
    "            print('ERROR: ', file_name)\n",
    "            \n",
    "\n",
    "    urls_.to_pickle('../data/urls_' + str(year) + '.pickle')\n",
    "    print(year, ' files saved to pickle')\n",
    "    \n",
    "    urls_.to_csv('../data/urls_' + str(year) + '.csv', index=False)\n",
    "    print(year, ' files saved to csv')"
   ]
  },
  {
   "cell_type": "code",
   "execution_count": 27,
   "id": "golden-performance",
   "metadata": {},
   "outputs": [
    {
     "name": "stdout",
     "output_type": "stream",
     "text": [
      "APPENDED:  ../data/2020/year_2020_P1_report_urls.pickle\n",
      "APPENDED:  ../data/2020/year_2020_P11_report_urls.pickle\n",
      "APPENDED:  ../data/2020/year_2020_P12_report_urls.pickle\n",
      "APPENDED:  ../data/2020/year_2020_P2_report_urls.pickle\n",
      "APPENDED:  ../data/2020/year_2020_P4_report_urls.pickle\n",
      "APPENDED:  ../data/2020/year_2020_P9_report_urls.pickle\n",
      "APPENDED:  ../data/2020/year_2020_P14_report_urls.pickle\n",
      "APPENDED:  ../data/2020/year_2020_P7_report_urls.pickle\n",
      "APPENDED:  ../data/2020/year_2020_P6_report_urls.pickle\n",
      "APPENDED:  ../data/2020/year_2020_P5_report_urls.pickle\n",
      "APPENDED:  ../data/2020/year_2020_P8_report_urls.pickle\n",
      "APPENDED:  ../data/2020/year_2020_P13_report_urls.pickle\n",
      "APPENDED:  ../data/2020/year_2020_P3_report_urls.pickle\n",
      "APPENDED:  ../data/2020/year_2020_P0_report_urls.pickle\n",
      "APPENDED:  ../data/2020/year_2020_P10_report_urls.pickle\n",
      "2020  files saved to pickle\n",
      "2020  files saved to csv\n"
     ]
    }
   ],
   "source": [
    "url_list_df(2020)"
   ]
  },
  {
   "cell_type": "code",
   "execution_count": 28,
   "id": "individual-authentication",
   "metadata": {},
   "outputs": [
    {
     "name": "stdout",
     "output_type": "stream",
     "text": [
      "APPENDED:  ../data/2019/year_2019_P5_report_urls.pickle\n",
      "APPENDED:  ../data/2019/year_2019_P8_report_urls.pickle\n",
      "APPENDED:  ../data/2019/year_2019_P6_report_urls.pickle\n",
      "APPENDED:  ../data/2019/year_2019_P11_report_urls.pickle\n",
      "APPENDED:  ../data/2019/year_2019_P0_report_urls.pickle\n",
      "APPENDED:  ../data/2019/year_2019_P3_report_urls.pickle\n",
      "APPENDED:  ../data/2019/year_2019_P2_report_urls.pickle\n",
      "APPENDED:  ../data/2019/year_2019_P10_report_urls.pickle\n",
      "APPENDED:  ../data/2019/year_2019_P1_report_urls.pickle\n",
      "APPENDED:  ../data/2019/year_2019_P7_report_urls.pickle\n",
      "APPENDED:  ../data/2019/year_2019_P4_report_urls.pickle\n",
      "APPENDED:  ../data/2019/year_2019_P9_report_urls.pickle\n",
      "2019  files saved to pickle\n",
      "2019  files saved to csv\n"
     ]
    }
   ],
   "source": [
    "url_list_df(2019)"
   ]
  },
  {
   "cell_type": "code",
   "execution_count": 24,
   "id": "wrapped-handbook",
   "metadata": {},
   "outputs": [
    {
     "name": "stdout",
     "output_type": "stream",
     "text": [
      "APPENDED:  ../data/2018/year_2018_P2_report_urls.pickle\n",
      "APPENDED:  ../data/2018/year_2018_P1_report_urls.pickle\n",
      "APPENDED:  ../data/2018/year_2018_P11_report_urls.pickle\n",
      "APPENDED:  ../data/2018/year_2018_P7_report_urls.pickle\n",
      "APPENDED:  ../data/2018/year_2018_P4_report_urls.pickle\n",
      "APPENDED:  ../data/2018/year_2018_P9_report_urls.pickle\n",
      "APPENDED:  ../data/2018/year_2018_P5_report_urls.pickle\n",
      "APPENDED:  ../data/2018/year_2018_P8_report_urls.pickle\n",
      "APPENDED:  ../data/2018/year_2018_P6_report_urls.pickle\n",
      "APPENDED:  ../data/2018/year_2018_P0_report_urls.pickle\n",
      "APPENDED:  ../data/2018/year_2018_P10_report_urls.pickle\n",
      "APPENDED:  ../data/2018/year_2018_P3_report_urls.pickle\n",
      "2018  files saved to pickle\n",
      "2018  files saved to csv\n"
     ]
    }
   ],
   "source": [
    "url_list_df(2018)"
   ]
  },
  {
   "cell_type": "code",
   "execution_count": 25,
   "id": "filled-parameter",
   "metadata": {},
   "outputs": [
    {
     "name": "stdout",
     "output_type": "stream",
     "text": [
      "APPENDED:  ../data/2017/year_2017_P3_report_urls.pickle\n",
      "APPENDED:  ../data/2017/year_2017_P0_report_urls.pickle\n",
      "APPENDED:  ../data/2017/year_2017_P6_report_urls.pickle\n",
      "APPENDED:  ../data/2017/year_2017_P11_report_urls.pickle\n",
      "APPENDED:  ../data/2017/year_2017_P5_report_urls.pickle\n",
      "APPENDED:  ../data/2017/year_2017_P8_report_urls.pickle\n",
      "APPENDED:  ../data/2017/year_2017_P10_report_urls.pickle\n",
      "APPENDED:  ../data/2017/year_2017_P4_report_urls.pickle\n",
      "APPENDED:  ../data/2017/year_2017_P9_report_urls.pickle\n",
      "APPENDED:  ../data/2017/year_2017_P7_report_urls.pickle\n",
      "APPENDED:  ../data/2017/year_2017_P1_report_urls.pickle\n",
      "APPENDED:  ../data/2017/year_2017_P2_report_urls.pickle\n",
      "2017  files saved to pickle\n",
      "2017  files saved to csv\n"
     ]
    }
   ],
   "source": [
    "url_list_df(2017)"
   ]
  },
  {
   "cell_type": "code",
   "execution_count": 26,
   "id": "latter-chassis",
   "metadata": {},
   "outputs": [
    {
     "name": "stdout",
     "output_type": "stream",
     "text": [
      "APPENDED:  ../data/2016/year_2016_P4_report_urls.pickle\n",
      "APPENDED:  ../data/2016/year_2016_P9_report_urls.pickle\n",
      "APPENDED:  ../data/2016/year_2016_P11_report_urls.pickle\n",
      "APPENDED:  ../data/2016/year_2016_P7_report_urls.pickle\n",
      "APPENDED:  ../data/2016/year_2016_P1_report_urls.pickle\n",
      "APPENDED:  ../data/2016/year_2016_P2_report_urls.pickle\n",
      "APPENDED:  ../data/2016/year_2016_P3_report_urls.pickle\n",
      "APPENDED:  ../data/2016/year_2016_P0_report_urls.pickle\n",
      "APPENDED:  ../data/2016/year_2016_P6_report_urls.pickle\n",
      "APPENDED:  ../data/2016/year_2016_P5_report_urls.pickle\n",
      "APPENDED:  ../data/2016/year_2016_P8_report_urls.pickle\n",
      "APPENDED:  ../data/2016/year_2016_P10_report_urls.pickle\n",
      "2016  files saved to pickle\n",
      "2016  files saved to csv\n"
     ]
    }
   ],
   "source": [
    "url_list_df(2016)"
   ]
  },
  {
   "cell_type": "code",
   "execution_count": 3,
   "id": "strange-congress",
   "metadata": {},
   "outputs": [
    {
     "name": "stdout",
     "output_type": "stream",
     "text": [
      "APPENDED:  ../data/2015/year_2015_P0_report_urls.pickle\n",
      "APPENDED:  ../data/2015/year_2015_P3_report_urls.pickle\n",
      "APPENDED:  ../data/2015/year_2015_P11_report_urls.pickle\n",
      "APPENDED:  ../data/2015/year_2015_P5_report_urls.pickle\n",
      "APPENDED:  ../data/2015/year_2015_P8_report_urls.pickle\n",
      "APPENDED:  ../data/2015/year_2015_P6_report_urls.pickle\n",
      "APPENDED:  ../data/2015/year_2015_P7_report_urls.pickle\n",
      "APPENDED:  ../data/2015/year_2015_P4_report_urls.pickle\n",
      "APPENDED:  ../data/2015/year_2015_P9_report_urls.pickle\n",
      "APPENDED:  ../data/2015/year_2015_P2_report_urls.pickle\n",
      "APPENDED:  ../data/2015/year_2015_P10_report_urls.pickle\n",
      "APPENDED:  ../data/2015/year_2015_P1_report_urls.pickle\n",
      "2015  files saved to pickle\n",
      "2015  files saved to csv\n"
     ]
    }
   ],
   "source": [
    "url_list_df(2015)"
   ]
  },
  {
   "cell_type": "code",
   "execution_count": 4,
   "id": "stunning-flashing",
   "metadata": {},
   "outputs": [
    {
     "name": "stdout",
     "output_type": "stream",
     "text": [
      "APPENDED:  ../data/2014/year_2014_P7_report_urls.pickle\n",
      "APPENDED:  ../data/2014/year_2014_P4_report_urls.pickle\n",
      "APPENDED:  ../data/2014/year_2014_P9_report_urls.pickle\n",
      "APPENDED:  ../data/2014/year_2014_P11_report_urls.pickle\n",
      "APPENDED:  ../data/2014/year_2014_P2_report_urls.pickle\n",
      "APPENDED:  ../data/2014/year_2014_P1_report_urls.pickle\n",
      "APPENDED:  ../data/2014/year_2014_P0_report_urls.pickle\n",
      "APPENDED:  ../data/2014/year_2014_P10_report_urls.pickle\n",
      "APPENDED:  ../data/2014/year_2014_P3_report_urls.pickle\n",
      "APPENDED:  ../data/2014/year_2014_P5_report_urls.pickle\n",
      "APPENDED:  ../data/2014/year_2014_P8_report_urls.pickle\n",
      "APPENDED:  ../data/2014/year_2014_P6_report_urls.pickle\n",
      "2014  files saved to pickle\n",
      "2014  files saved to csv\n"
     ]
    }
   ],
   "source": [
    "url_list_df(2014)"
   ]
  },
  {
   "cell_type": "code",
   "execution_count": 5,
   "id": "conventional-cooling",
   "metadata": {},
   "outputs": [
    {
     "name": "stdout",
     "output_type": "stream",
     "text": [
      "APPENDED:  ../data/2013/year_2013_P6_report_urls.pickle\n",
      "APPENDED:  ../data/2013/year_2013_P8_report_urls.pickle\n",
      "APPENDED:  ../data/2013/year_2013_P5_report_urls.pickle\n",
      "APPENDED:  ../data/2013/year_2013_P3_report_urls.pickle\n",
      "APPENDED:  ../data/2013/year_2013_P11_report_urls.pickle\n",
      "APPENDED:  ../data/2013/year_2013_P0_report_urls.pickle\n",
      "APPENDED:  ../data/2013/year_2013_P1_report_urls.pickle\n",
      "APPENDED:  ../data/2013/year_2013_P2_report_urls.pickle\n",
      "APPENDED:  ../data/2013/year_2013_P10_report_urls.pickle\n",
      "APPENDED:  ../data/2013/year_2013_P9_report_urls.pickle\n",
      "APPENDED:  ../data/2013/year_2013_P4_report_urls.pickle\n",
      "APPENDED:  ../data/2013/year_2013_P7_report_urls.pickle\n",
      "2013  files saved to pickle\n",
      "2013  files saved to csv\n"
     ]
    }
   ],
   "source": [
    "url_list_df(2013)"
   ]
  },
  {
   "cell_type": "code",
   "execution_count": 6,
   "id": "studied-school",
   "metadata": {},
   "outputs": [
    {
     "name": "stdout",
     "output_type": "stream",
     "text": [
      "APPENDED:  ../data/2012/year_2012_P1_report_urls.pickle\n",
      "APPENDED:  ../data/2012/year_2012_P11_report_urls.pickle\n",
      "APPENDED:  ../data/2012/year_2012_P2_report_urls.pickle\n",
      "APPENDED:  ../data/2012/year_2012_P9_report_urls.pickle\n",
      "APPENDED:  ../data/2012/year_2012_P4_report_urls.pickle\n",
      "APPENDED:  ../data/2012/year_2012_P7_report_urls.pickle\n",
      "APPENDED:  ../data/2012/year_2012_P6_report_urls.pickle\n",
      "APPENDED:  ../data/2012/year_2012_P8_report_urls.pickle\n",
      "APPENDED:  ../data/2012/year_2012_P5_report_urls.pickle\n",
      "APPENDED:  ../data/2012/year_2012_P10_report_urls.pickle\n",
      "APPENDED:  ../data/2012/year_2012_P3_report_urls.pickle\n",
      "APPENDED:  ../data/2012/year_2012_P0_report_urls.pickle\n",
      "2012  files saved to pickle\n",
      "2012  files saved to csv\n"
     ]
    }
   ],
   "source": [
    "url_list_df(2012)"
   ]
  },
  {
   "cell_type": "code",
   "execution_count": 7,
   "id": "approximate-aggregate",
   "metadata": {},
   "outputs": [
    {
     "name": "stdout",
     "output_type": "stream",
     "text": [
      "APPENDED:  ../data/2011/year_2011_P8_report_urls.pickle\n",
      "APPENDED:  ../data/2011/year_2011_P5_report_urls.pickle\n",
      "APPENDED:  ../data/2011/year_2011_P11_report_urls.pickle\n",
      "APPENDED:  ../data/2011/year_2011_P6_report_urls.pickle\n",
      "APPENDED:  ../data/2011/year_2011_P0_report_urls.pickle\n",
      "APPENDED:  ../data/2011/year_2011_P3_report_urls.pickle\n",
      "APPENDED:  ../data/2011/year_2011_P2_report_urls.pickle\n",
      "APPENDED:  ../data/2011/year_2011_P1_report_urls.pickle\n",
      "APPENDED:  ../data/2011/year_2011_P7_report_urls.pickle\n",
      "APPENDED:  ../data/2011/year_2011_P9_report_urls.pickle\n",
      "APPENDED:  ../data/2011/year_2011_P4_report_urls.pickle\n",
      "APPENDED:  ../data/2011/year_2011_P10_report_urls.pickle\n",
      "2011  files saved to pickle\n",
      "2011  files saved to csv\n"
     ]
    }
   ],
   "source": [
    "url_list_df(2011)"
   ]
  },
  {
   "cell_type": "code",
   "execution_count": null,
   "id": "bacterial-stage",
   "metadata": {},
   "outputs": [],
   "source": []
  }
 ],
 "metadata": {
  "kernelspec": {
   "display_name": "Python 3",
   "language": "python",
   "name": "python3"
  },
  "language_info": {
   "codemirror_mode": {
    "name": "ipython",
    "version": 3
   },
   "file_extension": ".py",
   "mimetype": "text/x-python",
   "name": "python",
   "nbconvert_exporter": "python",
   "pygments_lexer": "ipython3",
   "version": "3.8.2"
  }
 },
 "nbformat": 4,
 "nbformat_minor": 5
}
