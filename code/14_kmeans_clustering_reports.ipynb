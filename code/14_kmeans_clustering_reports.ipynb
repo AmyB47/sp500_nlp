{
 "cells": [
  {
   "cell_type": "code",
   "execution_count": null,
   "id": "liquid-houston",
   "metadata": {},
   "outputs": [],
   "source": [
    "\"\"\" \n",
    "K-means clustering of 22 NMF topic components for each REPORT \n",
    "\"\"\""
   ]
  },
  {
   "cell_type": "code",
   "execution_count": 1,
   "id": "frozen-notice",
   "metadata": {},
   "outputs": [],
   "source": [
    "import pickle\n",
    "import pandas as pd\n",
    "import numpy as np\n",
    "from sklearn.cluster import KMeans\n",
    "import matplotlib.pyplot as plt\n",
    "import seaborn as sns"
   ]
  },
  {
   "cell_type": "code",
   "execution_count": 2,
   "id": "conditional-pendant",
   "metadata": {},
   "outputs": [],
   "source": [
    "with open('../data/topics/NMF_report_risk_topics.pickle', 'rb') as read_file:\n",
    "    risk_topics = pickle.load(read_file)"
   ]
  },
  {
   "cell_type": "code",
   "execution_count": 3,
   "id": "mounted-watson",
   "metadata": {},
   "outputs": [
    {
     "data": {
      "text/plain": [
       "Index(['year', 'date_filed', 'accessionNo', 'formType', 'sic', 'ticker',\n",
       "       'companyName', 'C_0_N', 'C_1_N', 'C_2_N', 'C_3_N', 'C_4_N', 'C_5_N',\n",
       "       'C_6_N', 'C_7_N', 'C_8_N', 'C_9_N', 'C_10_N', 'C_11_N', 'C_12_N',\n",
       "       'C_13_N', 'C_14_N', 'C_15_N', 'C_16_N', 'C_17_N', 'C_18_N', 'C_19_N',\n",
       "       'C_20_N', 'C_21_N', 'ticker_year'],\n",
       "      dtype='object')"
      ]
     },
     "execution_count": 3,
     "metadata": {},
     "output_type": "execute_result"
    }
   ],
   "source": [
    "risk_topics.columns"
   ]
  },
  {
   "cell_type": "code",
   "execution_count": 4,
   "id": "extensive-psychiatry",
   "metadata": {},
   "outputs": [],
   "source": [
    "X = np.array(risk_topics[['C_0_N', 'C_1_N', 'C_2_N', 'C_3_N', 'C_4_N', 'C_5_N',\n",
    "       'C_6_N', 'C_7_N', 'C_8_N', 'C_9_N', 'C_10_N', 'C_11_N', 'C_12_N', 'C_13_N', \n",
    "       'C_14_N', 'C_15_N', 'C_16_N', 'C_17_N', 'C_18_N', 'C_19_N', 'C_20_N', 'C_21_N']])"
   ]
  },
  {
   "cell_type": "code",
   "execution_count": 21,
   "id": "recreational-kingston",
   "metadata": {},
   "outputs": [],
   "source": [
    "# helper function that allows us to display data in 2 dimensions an highlights the clusters\n",
    "def display_cluster(X,km=[],num_clusters=0):\n",
    "    color = 'brgcmyk'\n",
    "    alpha = 0.5\n",
    "    s = 20\n",
    "    if num_clusters == 0:\n",
    "        plt.scatter(X[:,0],X[:,1],c = color[0],alpha = alpha,s = s)\n",
    "    else:\n",
    "        for i in range(num_clusters):\n",
    "            plt.scatter(X[km.labels_==i,0],X[km.labels_==i,1],c = color[i],alpha = alpha,s=s)\n",
    "            plt.scatter(km.cluster_centers_[i][0],km.cluster_centers_[i][1],c = color[i], marker = 'x', s = 100)"
   ]
  },
  {
   "cell_type": "code",
   "execution_count": 6,
   "id": "musical-relevance",
   "metadata": {},
   "outputs": [
    {
     "data": {
      "text/plain": [
       "KMeans(n_clusters=11, n_init=5, random_state=10)"
      ]
     },
     "execution_count": 6,
     "metadata": {},
     "output_type": "execute_result"
    }
   ],
   "source": [
    "num_clusters = 11\n",
    "km = KMeans(n_clusters=num_clusters,random_state=10,n_init=5) # n_init, number of times the K-mean algorithm will run\n",
    "km.fit(X)"
   ]
  },
  {
   "cell_type": "code",
   "execution_count": 23,
   "id": "incorporate-christmas",
   "metadata": {},
   "outputs": [],
   "source": [
    "#display_cluster(X,km,num_clusters)"
   ]
  },
  {
   "cell_type": "code",
   "execution_count": 11,
   "id": "negative-ukraine",
   "metadata": {},
   "outputs": [],
   "source": [
    "clusters = pd.DataFrame(data=km.labels_.tolist(), columns=['cluster'])"
   ]
  },
  {
   "cell_type": "code",
   "execution_count": 9,
   "id": "welcome-native",
   "metadata": {},
   "outputs": [
    {
     "data": {
      "text/plain": [
       "array([15,  3,  9,  6, 18,  2, 21, 11,  7, 16, 12, 19,  0, 17, 14, 10,  1,\n",
       "        8,  4, 20, 13,  5])"
      ]
     },
     "execution_count": 9,
     "metadata": {},
     "output_type": "execute_result"
    }
   ],
   "source": [
    "order_centroids = km.cluster_centers_.argsort()[:, ::-1] \n",
    "order_centroids[0]"
   ]
  },
  {
   "cell_type": "code",
   "execution_count": 12,
   "id": "parental-boundary",
   "metadata": {},
   "outputs": [],
   "source": [
    "risks_clusters = pd.concat([risk_topics, clusters], axis=1)"
   ]
  },
  {
   "cell_type": "code",
   "execution_count": 14,
   "id": "outstanding-irish",
   "metadata": {},
   "outputs": [
    {
     "data": {
      "text/plain": [
       "Index(['year', 'date_filed', 'accessionNo', 'formType', 'sic', 'ticker',\n",
       "       'companyName', 'C_0_N', 'C_1_N', 'C_2_N', 'C_3_N', 'C_4_N', 'C_5_N',\n",
       "       'C_6_N', 'C_7_N', 'C_8_N', 'C_9_N', 'C_10_N', 'C_11_N', 'C_12_N',\n",
       "       'C_13_N', 'C_14_N', 'C_15_N', 'C_16_N', 'C_17_N', 'C_18_N', 'C_19_N',\n",
       "       'C_20_N', 'C_21_N', 'ticker_year', 'cluster'],\n",
       "      dtype='object')"
      ]
     },
     "execution_count": 14,
     "metadata": {},
     "output_type": "execute_result"
    }
   ],
   "source": [
    "risks_clusters.columns"
   ]
  },
  {
   "cell_type": "code",
   "execution_count": 18,
   "id": "theoretical-newport",
   "metadata": {},
   "outputs": [
    {
     "data": {
      "text/html": [
       "<div>\n",
       "<style scoped>\n",
       "    .dataframe tbody tr th:only-of-type {\n",
       "        vertical-align: middle;\n",
       "    }\n",
       "\n",
       "    .dataframe tbody tr th {\n",
       "        vertical-align: top;\n",
       "    }\n",
       "\n",
       "    .dataframe thead th {\n",
       "        text-align: right;\n",
       "    }\n",
       "</style>\n",
       "<table border=\"1\" class=\"dataframe\">\n",
       "  <thead>\n",
       "    <tr style=\"text-align: right;\">\n",
       "      <th></th>\n",
       "      <th>year</th>\n",
       "      <th>date_filed</th>\n",
       "      <th>accessionNo</th>\n",
       "      <th>formType</th>\n",
       "      <th>sic</th>\n",
       "      <th>ticker</th>\n",
       "      <th>companyName</th>\n",
       "      <th>C_0_N</th>\n",
       "      <th>C_1_N</th>\n",
       "      <th>C_2_N</th>\n",
       "      <th>...</th>\n",
       "      <th>C_14_N</th>\n",
       "      <th>C_15_N</th>\n",
       "      <th>C_16_N</th>\n",
       "      <th>C_17_N</th>\n",
       "      <th>C_18_N</th>\n",
       "      <th>C_19_N</th>\n",
       "      <th>C_20_N</th>\n",
       "      <th>C_21_N</th>\n",
       "      <th>ticker_year</th>\n",
       "      <th>cluster</th>\n",
       "    </tr>\n",
       "  </thead>\n",
       "  <tbody>\n",
       "    <tr>\n",
       "      <th>0</th>\n",
       "      <td>2011</td>\n",
       "      <td>2011-01-26</td>\n",
       "      <td>0001193125-11-014919</td>\n",
       "      <td>10-K</td>\n",
       "      <td>6141 Personal Credit Institutions</td>\n",
       "      <td>DFS</td>\n",
       "      <td>Discover Financial Services</td>\n",
       "      <td>5.584129</td>\n",
       "      <td>3.066305</td>\n",
       "      <td>10.936688</td>\n",
       "      <td>...</td>\n",
       "      <td>6.703711</td>\n",
       "      <td>18.419776</td>\n",
       "      <td>8.177222</td>\n",
       "      <td>7.926849</td>\n",
       "      <td>24.056956</td>\n",
       "      <td>9.213463</td>\n",
       "      <td>3.122806</td>\n",
       "      <td>13.527562</td>\n",
       "      <td>DFS_2011</td>\n",
       "      <td>0</td>\n",
       "    </tr>\n",
       "    <tr>\n",
       "      <th>1</th>\n",
       "      <td>2011</td>\n",
       "      <td>2011-01-26</td>\n",
       "      <td>0001193125-11-014958</td>\n",
       "      <td>10-K</td>\n",
       "      <td>2090 Miscellaneous Food Preparations &amp;amp; Kin...</td>\n",
       "      <td>MKC</td>\n",
       "      <td>MCCORMICK &amp; CO INC</td>\n",
       "      <td>3.773130</td>\n",
       "      <td>8.638299</td>\n",
       "      <td>16.756952</td>\n",
       "      <td>...</td>\n",
       "      <td>4.359980</td>\n",
       "      <td>0.570886</td>\n",
       "      <td>2.605130</td>\n",
       "      <td>14.039990</td>\n",
       "      <td>4.008455</td>\n",
       "      <td>1.592415</td>\n",
       "      <td>8.630127</td>\n",
       "      <td>19.832240</td>\n",
       "      <td>MKC_2011</td>\n",
       "      <td>1</td>\n",
       "    </tr>\n",
       "    <tr>\n",
       "      <th>2</th>\n",
       "      <td>2011</td>\n",
       "      <td>2011-01-27</td>\n",
       "      <td>0000796343-11-000003</td>\n",
       "      <td>10-K</td>\n",
       "      <td>7372 Services-Prepackaged Software</td>\n",
       "      <td>ADBE</td>\n",
       "      <td>ADOBE SYSTEMS INC</td>\n",
       "      <td>8.297228</td>\n",
       "      <td>14.661515</td>\n",
       "      <td>7.967888</td>\n",
       "      <td>...</td>\n",
       "      <td>7.813456</td>\n",
       "      <td>2.410104</td>\n",
       "      <td>17.577878</td>\n",
       "      <td>32.538083</td>\n",
       "      <td>2.791825</td>\n",
       "      <td>8.750564</td>\n",
       "      <td>13.307759</td>\n",
       "      <td>12.335037</td>\n",
       "      <td>ADBE_2011</td>\n",
       "      <td>2</td>\n",
       "    </tr>\n",
       "    <tr>\n",
       "      <th>3</th>\n",
       "      <td>2011</td>\n",
       "      <td>2011-01-27</td>\n",
       "      <td>0001193125-11-016253</td>\n",
       "      <td>10-K</td>\n",
       "      <td>5961 Retail-Catalog &amp;amp; Mail-Order Houses</td>\n",
       "      <td>AMZN</td>\n",
       "      <td>AMAZON COM INC</td>\n",
       "      <td>2.012721</td>\n",
       "      <td>7.593752</td>\n",
       "      <td>3.399372</td>\n",
       "      <td>...</td>\n",
       "      <td>7.186137</td>\n",
       "      <td>1.661762</td>\n",
       "      <td>3.619441</td>\n",
       "      <td>25.972473</td>\n",
       "      <td>8.807608</td>\n",
       "      <td>3.476674</td>\n",
       "      <td>3.080109</td>\n",
       "      <td>15.646035</td>\n",
       "      <td>AMZN_2011</td>\n",
       "      <td>7</td>\n",
       "    </tr>\n",
       "    <tr>\n",
       "      <th>4</th>\n",
       "      <td>2011</td>\n",
       "      <td>2011-01-28</td>\n",
       "      <td>0001065088-11-000003</td>\n",
       "      <td>10-K</td>\n",
       "      <td>7389 Services-Business Services, NEC</td>\n",
       "      <td>EBAY</td>\n",
       "      <td>EBAY INC</td>\n",
       "      <td>3.048407</td>\n",
       "      <td>22.189821</td>\n",
       "      <td>35.948725</td>\n",
       "      <td>...</td>\n",
       "      <td>13.187547</td>\n",
       "      <td>13.035927</td>\n",
       "      <td>22.637687</td>\n",
       "      <td>34.606789</td>\n",
       "      <td>9.735240</td>\n",
       "      <td>11.517763</td>\n",
       "      <td>5.449361</td>\n",
       "      <td>28.927050</td>\n",
       "      <td>EBAY_2011</td>\n",
       "      <td>2</td>\n",
       "    </tr>\n",
       "  </tbody>\n",
       "</table>\n",
       "<p>5 rows × 31 columns</p>\n",
       "</div>"
      ],
      "text/plain": [
       "   year date_filed           accessionNo formType  \\\n",
       "0  2011 2011-01-26  0001193125-11-014919     10-K   \n",
       "1  2011 2011-01-26  0001193125-11-014958     10-K   \n",
       "2  2011 2011-01-27  0000796343-11-000003     10-K   \n",
       "3  2011 2011-01-27  0001193125-11-016253     10-K   \n",
       "4  2011 2011-01-28  0001065088-11-000003     10-K   \n",
       "\n",
       "                                                 sic ticker  \\\n",
       "0                  6141 Personal Credit Institutions    DFS   \n",
       "1  2090 Miscellaneous Food Preparations &amp; Kin...    MKC   \n",
       "2                 7372 Services-Prepackaged Software   ADBE   \n",
       "3        5961 Retail-Catalog &amp; Mail-Order Houses   AMZN   \n",
       "4               7389 Services-Business Services, NEC   EBAY   \n",
       "\n",
       "                   companyName     C_0_N      C_1_N      C_2_N  ...  \\\n",
       "0  Discover Financial Services  5.584129   3.066305  10.936688  ...   \n",
       "1           MCCORMICK & CO INC  3.773130   8.638299  16.756952  ...   \n",
       "2            ADOBE SYSTEMS INC  8.297228  14.661515   7.967888  ...   \n",
       "3               AMAZON COM INC  2.012721   7.593752   3.399372  ...   \n",
       "4                     EBAY INC  3.048407  22.189821  35.948725  ...   \n",
       "\n",
       "      C_14_N     C_15_N     C_16_N     C_17_N     C_18_N     C_19_N  \\\n",
       "0   6.703711  18.419776   8.177222   7.926849  24.056956   9.213463   \n",
       "1   4.359980   0.570886   2.605130  14.039990   4.008455   1.592415   \n",
       "2   7.813456   2.410104  17.577878  32.538083   2.791825   8.750564   \n",
       "3   7.186137   1.661762   3.619441  25.972473   8.807608   3.476674   \n",
       "4  13.187547  13.035927  22.637687  34.606789   9.735240  11.517763   \n",
       "\n",
       "      C_20_N     C_21_N  ticker_year  cluster  \n",
       "0   3.122806  13.527562     DFS_2011        0  \n",
       "1   8.630127  19.832240     MKC_2011        1  \n",
       "2  13.307759  12.335037    ADBE_2011        2  \n",
       "3   3.080109  15.646035    AMZN_2011        7  \n",
       "4   5.449361  28.927050    EBAY_2011        2  \n",
       "\n",
       "[5 rows x 31 columns]"
      ]
     },
     "execution_count": 18,
     "metadata": {},
     "output_type": "execute_result"
    }
   ],
   "source": [
    "risks_clusters.head()"
   ]
  },
  {
   "cell_type": "code",
   "execution_count": 20,
   "id": "danish-touch",
   "metadata": {},
   "outputs": [],
   "source": [
    "risks_clusters.to_excel('report_clusters11.xlsx', index=False)"
   ]
  },
  {
   "cell_type": "code",
   "execution_count": 33,
   "id": "productive-panama",
   "metadata": {},
   "outputs": [
    {
     "data": {
      "text/plain": [
       "array([[ 6.20523729, 45.82510197, 29.21926968, 13.69078688, 18.04689713,\n",
       "        13.51329645,  6.61101633, 11.12427696,  7.46013751,  2.62664567,\n",
       "         6.64994942,  8.66506636,  9.53435617, 10.7774166 ,  7.97764869,\n",
       "         2.29761613,  6.87753097, 11.54131393,  9.46620845,  9.0473154 ,\n",
       "         8.21292475, 19.03362654],\n",
       "       [ 5.73474057, 12.10240465, 13.3578268 , 10.34550863, 19.47842046,\n",
       "        14.93040997,  6.4478146 ,  8.8908236 ,  6.91704327,  2.71977524,\n",
       "         6.88991096,  9.3985431 ,  7.14746381,  6.7154593 ,  7.33627782,\n",
       "         2.20381501, 12.82855338, 18.52443879,  7.59238609,  8.04800305,\n",
       "         7.96154633, 24.64932234],\n",
       "       [13.94254893, 13.45116829, 17.81266085, 32.73363622, 14.90196668,\n",
       "        21.06283468, 11.16981439, 17.65590403,  9.52975921,  4.25553961,\n",
       "        13.28663848, 13.28677222, 16.6111791 ,  6.33298371, 13.22171124,\n",
       "         4.08343874,  9.27550032, 11.76902362,  8.52463502, 10.57144652,\n",
       "         8.5537997 , 23.12685364],\n",
       "       [ 8.64339723, 18.40000971, 22.83320792, 22.6597331 , 70.97148657,\n",
       "        23.95563964,  8.99029072, 16.90344457, 15.42619179,  7.88043669,\n",
       "        14.92540348, 25.80985078, 11.15947494, 14.56299812, 11.93660593,\n",
       "         3.82578266, 25.76885459, 44.91860401, 13.87298304, 16.14632309,\n",
       "        15.7497377 , 71.50430594],\n",
       "       [ 8.07997141, 11.03826223, 13.42914247, 13.67124762, 11.72195374,\n",
       "         6.70542285, 11.18290524, 10.75593845,  5.860932  ,  5.95458946,\n",
       "         9.43724285, 14.77849786, 14.77330304,  6.03001208,  7.34624463,\n",
       "         2.12886723,  7.79421565,  6.40130606,  9.75350915, 10.8574725 ,\n",
       "        42.19288091, 27.20724881],\n",
       "       [ 6.79634883, 12.79145426, 16.68832166, 11.86155776, 22.02732508,\n",
       "        17.88445703,  8.56023006,  9.9037736 ,  8.53005026,  4.31049651,\n",
       "         9.70116482, 14.81420023,  6.86938422,  7.35319328,  7.75905714,\n",
       "         2.98012413, 13.0988712 , 53.65948208,  8.01844271, 10.05970369,\n",
       "         9.85935234, 34.72582468],\n",
       "       [ 7.00606809,  9.38039107, 13.70243538, 19.88431992,  9.62828865,\n",
       "         5.32214065,  9.15493805, 16.1594947 ,  7.11817583,  8.5896699 ,\n",
       "         6.81011897, 13.58200402,  6.93229791,  5.86075705,  7.74321063,\n",
       "         8.66046318, 11.20773334, 12.22440027, 10.68748673, 42.86571611,\n",
       "         8.71149275, 26.02923086],\n",
       "       [ 4.4800268 ,  9.04493   ,  8.98590346, 10.38800174,  7.89762575,\n",
       "         5.95658748,  7.06126986,  9.41374509,  4.63273797,  3.86379194,\n",
       "         4.64985169,  7.96091205,  5.97162484,  4.97452234,  5.13820434,\n",
       "         2.68062676,  7.16311582,  5.9084817 ,  7.13287209,  7.58646502,\n",
       "         7.68485484, 14.89418874],\n",
       "       [ 5.41054031, 13.83764946, 20.52598961, 15.01947935, 23.68665474,\n",
       "        15.79277421, 11.0158325 , 11.67835424,  6.45397736,  4.91855011,\n",
       "         8.30789554, 14.87498428,  6.78351904,  8.52022368,  9.20689632,\n",
       "         3.38198369, 30.38418869, 21.3592245 , 11.4687791 , 14.18926685,\n",
       "        10.02742302, 48.43145756],\n",
       "       [ 7.25251574,  5.34775069, 13.93877578, 26.87273975,  4.82355236,\n",
       "         3.76187104, 21.43099717, 11.50770483,  5.08833857, 21.74657755,\n",
       "         5.59532381, 12.98620458,  8.90001946,  4.61091653,  5.90511714,\n",
       "        32.61996771,  9.35658466,  5.93571684, 18.39385667,  7.81630823,\n",
       "         4.55216859, 13.26894366]])"
      ]
     },
     "execution_count": 33,
     "metadata": {},
     "output_type": "execute_result"
    }
   ],
   "source": [
    "#######\n",
    "num_clusters = 10\n",
    "km = KMeans(n_clusters=num_clusters,random_state=10,n_init=10) # n_init, number of times the K-mean algorithm will run\n",
    "km.fit(X)\n",
    "\n",
    "clusters = pd.DataFrame(data=km.labels_.tolist(), columns=['cluster'])\n",
    "risks_clusters = pd.concat([risk_topics, clusters], axis=1)\n",
    "risks_clusters.to_excel('report_clusters10.xlsx', index=False)\n",
    "\n",
    "km.cluster_centers_"
   ]
  },
  {
   "cell_type": "code",
   "execution_count": 25,
   "id": "hairy-voice",
   "metadata": {},
   "outputs": [],
   "source": []
  },
  {
   "cell_type": "code",
   "execution_count": 26,
   "id": "elect-notification",
   "metadata": {},
   "outputs": [],
   "source": [
    "#######\n",
    "num_clusters = 12\n",
    "km = KMeans(n_clusters=num_clusters,random_state=10,n_init=10) # n_init, number of times the K-mean algorithm will run\n",
    "km.fit(X)\n",
    "clusters = pd.DataFrame(data=km.labels_.tolist(), columns=['cluster'])\n",
    "risks_clusters = pd.concat([risk_topics, clusters], axis=1)\n",
    "risks_clusters.to_excel('report_clusters12.xlsx', index=False)"
   ]
  },
  {
   "cell_type": "code",
   "execution_count": 27,
   "id": "thousand-convenience",
   "metadata": {},
   "outputs": [],
   "source": [
    "#######\n",
    "num_clusters = 9\n",
    "km = KMeans(n_clusters=num_clusters,random_state=10,n_init=10) # n_init, number of times the K-mean algorithm will run\n",
    "km.fit(X)\n",
    "clusters = pd.DataFrame(data=km.labels_.tolist(), columns=['cluster'])\n",
    "risks_clusters = pd.concat([risk_topics, clusters], axis=1)\n",
    "risks_clusters.to_excel('report_clusters9.xlsx', index=False)"
   ]
  },
  {
   "cell_type": "code",
   "execution_count": 28,
   "id": "amazing-utility",
   "metadata": {},
   "outputs": [],
   "source": [
    "#######\n",
    "num_clusters = 8\n",
    "km = KMeans(n_clusters=num_clusters,random_state=10,n_init=10) # n_init, number of times the K-mean algorithm will run\n",
    "km.fit(X)\n",
    "clusters = pd.DataFrame(data=km.labels_.tolist(), columns=['cluster'])\n",
    "risks_clusters = pd.concat([risk_topics, clusters], axis=1)\n",
    "risks_clusters.to_excel('report_clusters8.xlsx', index=False)"
   ]
  },
  {
   "cell_type": "code",
   "execution_count": 31,
   "id": "injured-newspaper",
   "metadata": {},
   "outputs": [
    {
     "data": {
      "text/plain": [
       "array([[ 7.71475549, 12.12249996, 16.12050803, 15.82311668, 19.73200403,\n",
       "        18.89020522,  8.92044564, 11.3100315 ,  7.30179319,  3.41833512,\n",
       "         8.8767562 , 11.31521706,  9.80515243,  7.05931357,  9.13534445,\n",
       "         2.99169418, 16.11465682, 18.69374973,  8.5720701 ,  9.11712213,\n",
       "         8.33675239, 29.94814985],\n",
       "       [ 8.33737824, 11.29700751, 13.78586977, 13.94832317, 11.78921001,\n",
       "         7.01355969, 11.39300695, 11.12223713,  5.86027243,  5.88745053,\n",
       "         9.70377065, 15.09334734, 14.82894773,  6.15383635,  7.98871763,\n",
       "         2.16537757,  8.05043499,  6.88279404,  9.85637246, 11.17504194,\n",
       "        41.59329424, 27.9551027 ],\n",
       "       [ 7.46771616,  5.53521646, 13.48037305, 30.00335744,  5.00637835,\n",
       "         5.51068673, 20.80508283, 11.93652853,  5.10014374, 20.41074596,\n",
       "         5.5425693 , 12.64655169,  9.44338377,  4.69465527,  6.20151736,\n",
       "        29.77099897,  9.14978195,  5.74804133, 17.01433942,  7.98450871,\n",
       "         4.42369251, 13.04930299],\n",
       "       [ 4.70968669,  9.48587562,  9.36766695, 10.84263162,  9.16793099,\n",
       "         6.88567316,  6.7762987 ,  9.35303941,  4.99851268,  3.54536103,\n",
       "         5.00709869,  8.07685813,  6.2264346 ,  5.1983404 ,  5.65914113,\n",
       "         2.50519232,  7.63366438,  7.51860627,  7.09772788,  7.58064658,\n",
       "         7.50626269, 15.54625663],\n",
       "       [ 7.0810032 , 13.94802258, 19.45742639, 14.53359384, 30.95188846,\n",
       "        18.20019568,  9.09704286, 11.68419115,  9.47271892,  5.35062946,\n",
       "        10.96309502, 17.53872895,  7.62361322,  8.63419996,  8.74011377,\n",
       "         3.22267403, 17.8115716 , 51.54426694,  9.7016161 , 12.11678829,\n",
       "        11.46302757, 44.84918979],\n",
       "       [ 8.18525504,  9.51996441, 13.94059639, 21.3720122 , 10.98527707,\n",
       "         5.48244776,  9.35254859, 17.01573995,  7.55415918,  8.41651129,\n",
       "         7.72867745, 14.26472286,  7.11850791,  5.99917612,  8.47815524,\n",
       "         8.23384084, 11.92556874, 11.97095188, 10.55264869, 40.6050345 ,\n",
       "         8.85514373, 26.83547502],\n",
       "       [ 7.29720744, 44.05317716, 28.61778511, 16.02452356, 17.9114685 ,\n",
       "        14.42399412,  6.84261983, 11.92053311,  8.6430209 ,  2.60087558,\n",
       "         7.6022886 ,  9.14401647, 10.43094066, 10.25419942,  8.30252854,\n",
       "         2.41232451,  7.00544839, 12.18867686,  9.5727948 ,  9.17336415,\n",
       "         8.30718244, 19.50183655]])"
      ]
     },
     "execution_count": 31,
     "metadata": {},
     "output_type": "execute_result"
    }
   ],
   "source": [
    "#######\n",
    "num_clusters = 7\n",
    "km = KMeans(n_clusters=num_clusters,random_state=10,n_init=10) # n_init, number of times the K-mean algorithm will run\n",
    "km.fit(X)\n",
    "clusters = pd.DataFrame(data=km.labels_.tolist(), columns=['cluster'])\n",
    "risks_clusters = pd.concat([risk_topics, clusters], axis=1)\n",
    "risks_clusters.to_excel('report_clusters7.xlsx', index=False)\n",
    "\n",
    "#km.cluster_centers_"
   ]
  },
  {
   "cell_type": "code",
   "execution_count": 30,
   "id": "whole-sponsorship",
   "metadata": {},
   "outputs": [],
   "source": [
    "#######\n",
    "num_clusters = 6\n",
    "km = KMeans(n_clusters=num_clusters,random_state=10,n_init=10) # n_init, number of times the K-mean algorithm will run\n",
    "km.fit(X)\n",
    "clusters = pd.DataFrame(data=km.labels_.tolist(), columns=['cluster'])\n",
    "risks_clusters = pd.concat([risk_topics, clusters], axis=1)\n",
    "risks_clusters.to_excel('report_clusters6.xlsx', index=False)\n",
    "\n",
    "# 6 is too few - the banks and insurances were dipersed"
   ]
  }
 ],
 "metadata": {
  "kernelspec": {
   "display_name": "Python 3",
   "language": "python",
   "name": "python3"
  },
  "language_info": {
   "codemirror_mode": {
    "name": "ipython",
    "version": 3
   },
   "file_extension": ".py",
   "mimetype": "text/x-python",
   "name": "python",
   "nbconvert_exporter": "python",
   "pygments_lexer": "ipython3",
   "version": "3.8.2"
  }
 },
 "nbformat": 4,
 "nbformat_minor": 5
}
