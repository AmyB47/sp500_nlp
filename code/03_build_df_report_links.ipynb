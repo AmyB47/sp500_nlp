{
 "cells": [
  {
   "cell_type": "code",
   "execution_count": null,
   "id": "reverse-belgium",
   "metadata": {},
   "outputs": [],
   "source": [
    "\"\"\"\n",
    "create data frames with the urls to 10-K reports\n",
    "\"\"\""
   ]
  },
  {
   "cell_type": "code",
   "execution_count": 1,
   "id": "handmade-workstation",
   "metadata": {},
   "outputs": [],
   "source": [
    "import numpy as np\n",
    "import pandas as pd\n",
    "import pickle\n",
    "import time"
   ]
  },
  {
   "cell_type": "code",
   "execution_count": 2,
   "id": "protected-ordinance",
   "metadata": {},
   "outputs": [],
   "source": [
    "import json\n",
    "import urllib.request"
   ]
  },
  {
   "cell_type": "code",
   "execution_count": 3,
   "id": "pregnant-correlation",
   "metadata": {},
   "outputs": [],
   "source": [
    "with open('../data/sp_500_ciks.pickle', 'rb') as read_file:\n",
    "    sp_500_ciks = pickle.load(read_file)"
   ]
  },
  {
   "cell_type": "code",
   "execution_count": 4,
   "id": "prospective-demonstration",
   "metadata": {},
   "outputs": [
    {
     "data": {
      "text/plain": [
       "Index(['Symbol', 'Security', 'ticker', 'cik'], dtype='object')"
      ]
     },
     "execution_count": 4,
     "metadata": {},
     "output_type": "execute_result"
    }
   ],
   "source": [
    "sp_500_ciks.columns"
   ]
  },
  {
   "cell_type": "code",
   "execution_count": 5,
   "id": "armed-music",
   "metadata": {},
   "outputs": [],
   "source": [
    "query_list = list(sp_500_ciks.cik.unique())"
   ]
  },
  {
   "cell_type": "code",
   "execution_count": 6,
   "id": "married-pregnancy",
   "metadata": {},
   "outputs": [
    {
     "data": {
      "text/plain": [
       "589"
      ]
     },
     "execution_count": 6,
     "metadata": {},
     "output_type": "execute_result"
    }
   ],
   "source": [
    "len(query_list)\n",
    "# all companies that were in S&P 500 in last 10 years\n",
    "# will pull links to reports and filter for the companies in the index at different date ranges"
   ]
  },
  {
   "cell_type": "code",
   "execution_count": 8,
   "id": "certified-visiting",
   "metadata": {},
   "outputs": [],
   "source": [
    "# SEC API\n",
    "TOKEN = \"--- REDACTED ----\"\n",
    "# API endpoint\n",
    "API = \"https://api.sec-api.io?token=\" + TOKEN"
   ]
  },
  {
   "cell_type": "code",
   "execution_count": null,
   "id": "virgin-culture",
   "metadata": {},
   "outputs": [],
   "source": [
    "# Ran for one year at a time 2011-2021\n",
    "# Had API errors if more than 50 in loop, even with pausing for a few seconds before iteration of loop\n",
    "# So ran and output batches of 50 cik's\n",
    "# last year run in batches of 25 cik's\n"
   ]
  },
  {
   "cell_type": "code",
   "execution_count": 26,
   "id": "eight-poverty",
   "metadata": {},
   "outputs": [
    {
     "name": "stdout",
     "output_type": "stream",
     "text": [
      "0 25 22\n",
      "25 50 19\n",
      "50 75 18\n",
      "75 100 20\n",
      "100 125 17\n",
      "125 150 20\n",
      "150 175 21\n",
      "175 200 20\n",
      "200 225 22\n",
      "225 250 20\n",
      "250 275 17\n",
      "275 300 22\n",
      "300 325 18\n",
      "325 350 21\n",
      "350 375 22\n",
      "375 400 16\n",
      "400 425 19\n",
      "425 450 19\n",
      "450 475 20\n",
      "475 500 22\n",
      "500 525 14\n",
      "525 550 16\n",
      "550 575 16\n",
      "575 600 8\n",
      "[]\n"
     ]
    }
   ],
   "source": [
    "start=0\n",
    "stop=25\n",
    "\n",
    "errors_list = []\n",
    "\n",
    "for i in range(0, 24 ):\n",
    " \n",
    "    # to save results\n",
    "    file_list = []\n",
    "\n",
    "    for cik_id in query_list[start:stop]:\n",
    "\n",
    "        # define the filter parameters you want to send to the API \n",
    "        payload = {\n",
    "          \"query\": { \"query_string\": { \"query\": \"cik:{}\".format(cik_id) + \" AND filedAt:{2021-01-01 TO 2021-03-08} AND formType:\\\"10-K\\\"\" } },\n",
    "          \"from\": \"0\",\n",
    "          \"size\": \"10\",\n",
    "          \"sort\": [{ \"filedAt\": { \"order\": \"desc\" } }]\n",
    "        }\n",
    "\n",
    "        # format your payload to JSON bytes\n",
    "        jsondata = json.dumps(payload)\n",
    "        jsondataasbytes = jsondata.encode('utf-8')   # needs to be bytes\n",
    "\n",
    "        # instantiate the request \n",
    "        req = urllib.request.Request(API)\n",
    "\n",
    "        # set the correct HTTP header: Content-Type = application/json\n",
    "        req.add_header('Content-Type', 'application/json; charset=utf-8')\n",
    "        # set the correct length of your request\n",
    "        req.add_header('Content-Length', len(jsondataasbytes))\n",
    "\n",
    "        # send the request to the API\n",
    "        response = urllib.request.urlopen(req, jsondataasbytes)\n",
    "\n",
    "        # read the response \n",
    "        res_body = response.read()\n",
    "        # transform the response into JSON\n",
    "        filings = json.loads(res_body.decode(\"utf-8\"))\n",
    "\n",
    "        #filing_dict = filings[\"filings\"]\n",
    "\n",
    "        for info in filings['filings']:\n",
    "            try:\n",
    "                f = {}\n",
    "                f['id'] = info['id']\n",
    "                f['accessionNo'] = info['accessionNo']\n",
    "                f['ticker'] = info['ticker']\n",
    "                f['cik'] = info['cik']\n",
    "                f['companyName'] = info['companyName']\n",
    "                f['companyNameLong'] = info['companyNameLong']\n",
    "                f['formType'] = info['formType']\n",
    "                f['filedAt'] = info['filedAt']\n",
    "                f['linkToTxt'] = info['linkToTxt']\n",
    "                f['linkToHtml'] = info['linkToHtml']\n",
    "                f['irsNo'] = info['entities'][0]['irsNo']\n",
    "                f['fiscalYearEnd'] = info['entities'][0]['fiscalYearEnd']\n",
    "                f['sic'] = info['entities'][0]['sic']\n",
    "                file_list.append(f)\n",
    "            except:\n",
    "                #print('ERROR: ', cik_id, info['cik'])\n",
    "                errors_list.append(cik_id)\n",
    "                \n",
    "\n",
    "        # Wait for 2 seconds before next iteration of loop\n",
    "        time.sleep(2)\n",
    "        \n",
    "    print(start,stop, len(file_list))\n",
    "    \n",
    "    file_urls_df = pd.DataFrame(file_list)\n",
    "    file_urls_df[\"filed_at\"] = pd.to_datetime(file_urls_df.filedAt)\n",
    "    \n",
    "    with open('../data/2021/year_2021_P' + str(i) + '_report_urls.pickle', 'wb') as to_write:\n",
    "        pickle.dump(file_urls_df, to_write)\n",
    "    \n",
    "    start=stop\n",
    "    stop = start+25\n",
    "    \n",
    "    time.sleep(5)\n",
    "\n",
    "print(errors_list)\n"
   ]
  },
  {
   "cell_type": "code",
   "execution_count": null,
   "id": "velvet-refrigerator",
   "metadata": {},
   "outputs": [],
   "source": []
  },
  {
   "cell_type": "code",
   "execution_count": null,
   "id": "competent-melissa",
   "metadata": {},
   "outputs": [],
   "source": []
  },
  {
   "cell_type": "code",
   "execution_count": null,
   "id": "ultimate-regard",
   "metadata": {},
   "outputs": [],
   "source": []
  }
 ],
 "metadata": {
  "kernelspec": {
   "display_name": "Python 3",
   "language": "python",
   "name": "python3"
  },
  "language_info": {
   "codemirror_mode": {
    "name": "ipython",
    "version": 3
   },
   "file_extension": ".py",
   "mimetype": "text/x-python",
   "name": "python",
   "nbconvert_exporter": "python",
   "pygments_lexer": "ipython3",
   "version": "3.8.2"
  }
 },
 "nbformat": 4,
 "nbformat_minor": 5
}
