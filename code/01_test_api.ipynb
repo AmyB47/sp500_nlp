{
 "cells": [
  {
   "cell_type": "code",
   "execution_count": null,
   "id": "thousand-sodium",
   "metadata": {},
   "outputs": [],
   "source": [
    "\"\"\"\n",
    "test SEC API\n",
    "with Python example code\n",
    "\"\"\""
   ]
  },
  {
   "cell_type": "code",
   "execution_count": 1,
   "id": "moderate-negative",
   "metadata": {},
   "outputs": [
    {
     "name": "stdout",
     "output_type": "stream",
     "text": [
      "{'total': {'value': 1, 'relation': 'eq'}, 'query': {'from': 0, 'size': 10}, 'filings': [{'id': 'e29d4daf68bc8b591842c0ee04e43a01', 'accessionNo': '0001628280-16-020309', 'cik': '320193', 'ticker': 'AAPL', 'companyName': 'APPLE INC', 'companyNameLong': 'APPLE INC (Filer)', 'formType': '10-K', 'description': 'Form 10-K - Annual report [Section 13 and 15(d), not S-K Item 405]', 'filedAt': '2016-10-26T16:42:16-04:00', 'linkToTxt': 'https://www.sec.gov/Archives/edgar/data/320193/000162828016020309/0001628280-16-020309.txt', 'linkToHtml': 'https://www.sec.gov/Archives/edgar/data/320193/0001628280-16-020309-index.htm', 'linkToXbrl': '', 'linkToFilingDetails': 'https://www.sec.gov/Archives/edgar/data/320193/000162828016020309/a201610-k9242016.htm', 'entities': [{'companyName': 'APPLE INC (Filer)', 'cik': '0000320193', 'irsNo': '942404110', 'stateOfIncorporation': 'CA', 'fiscalYearEnd': '0924', 'type': '10-K', 'act': '34', 'fileNo': '001-36743', 'filmNo': '161953070', 'sic': '3571 Electronic Computers'}], 'documentFormatFiles': [{'sequence': '1', 'description': '10-K', 'documentUrl': 'https://www.sec.gov/Archives/edgar/data/320193/000162828016020309/a201610-k9242016.htm', 'type': '10-K', 'size': '2497746'}, {'sequence': '2', 'description': 'EXHIBIT 10.18', 'documentUrl': 'https://www.sec.gov/Archives/edgar/data/320193/000162828016020309/exhibit101810k2016.htm', 'type': 'EX-10.18', 'size': '53056'}, {'sequence': '3', 'description': 'EXHIBIT 10.19', 'documentUrl': 'https://www.sec.gov/Archives/edgar/data/320193/000162828016020309/exhibit101910k2016.htm', 'type': 'EX-10.19', 'size': '73664'}, {'sequence': '4', 'description': 'EXHIBIT 12.1', 'documentUrl': 'https://www.sec.gov/Archives/edgar/data/320193/000162828016020309/exhibit12110k2016.htm', 'type': 'EX-12.1', 'size': '47668'}, {'sequence': '5', 'description': 'EXHIBIT 21.1', 'documentUrl': 'https://www.sec.gov/Archives/edgar/data/320193/000162828016020309/exhibit21110k2016.htm', 'type': 'EX-21.1', 'size': '5777'}, {'sequence': '6', 'description': 'EXHIBIT 23.1', 'documentUrl': 'https://www.sec.gov/Archives/edgar/data/320193/000162828016020309/exhibit23110k2016.htm', 'type': 'EX-23.1', 'size': '10195'}, {'sequence': '7', 'description': 'EXHIBIT 31.1', 'documentUrl': 'https://www.sec.gov/Archives/edgar/data/320193/000162828016020309/exhibit31110k2016.htm', 'type': 'EX-31.1', 'size': '13323'}, {'sequence': '8', 'description': 'EXHIBIT 31.2', 'documentUrl': 'https://www.sec.gov/Archives/edgar/data/320193/000162828016020309/exhibit31210k2016.htm', 'type': 'EX-31.2', 'size': '13459'}, {'sequence': '9', 'description': 'EXHIBIT 32.1', 'documentUrl': 'https://www.sec.gov/Archives/edgar/data/320193/000162828016020309/exhibit32110k2016.htm', 'type': 'EX-32.1', 'size': '12007'}, {'sequence': '16', 'documentUrl': 'https://www.sec.gov/Archives/edgar/data/320193/000162828016020309/a201610-k9_chartx38133.jpg', 'type': 'GRAPHIC', 'size': '67906'}, {'sequence': '17', 'documentUrl': 'https://www.sec.gov/Archives/edgar/data/320193/000162828016020309/g66145g66h99.jpg', 'type': 'GRAPHIC', 'size': '10963'}, {'sequence': '\\xa0', 'description': 'Complete submission text file', 'documentUrl': 'https://www.sec.gov/Archives/edgar/data/320193/000162828016020309/0001628280-16-020309.txt', 'type': '\\xa0', 'size': '13277662'}], 'dataFiles': [{'sequence': '10', 'description': 'XBRL INSTANCE DOCUMENT', 'documentUrl': 'https://www.sec.gov/Archives/edgar/data/320193/000162828016020309/aapl-20160924.xml', 'type': 'EX-101.INS', 'size': '3589330'}, {'sequence': '11', 'description': 'XBRL TAXONOMY EXTENSION SCHEMA DOCUMENT', 'documentUrl': 'https://www.sec.gov/Archives/edgar/data/320193/000162828016020309/aapl-20160924.xsd', 'type': 'EX-101.SCH', 'size': '67690'}, {'sequence': '12', 'description': 'XBRL TAXONOMY EXTENSION CALCULATION LINKBASE DOCUMENT', 'documentUrl': 'https://www.sec.gov/Archives/edgar/data/320193/000162828016020309/aapl-20160924_cal.xml', 'type': 'EX-101.CAL', 'size': '117837'}, {'sequence': '13', 'description': 'XBRL TAXONOMY EXTENSION DEFINITION LINKBASE DOCUMENT', 'documentUrl': 'https://www.sec.gov/Archives/edgar/data/320193/000162828016020309/aapl-20160924_def.xml', 'type': 'EX-101.DEF', 'size': '285653'}, {'sequence': '14', 'description': 'XBRL TAXONOMY EXTENSION LABEL LINKBASE DOCUMENT', 'documentUrl': 'https://www.sec.gov/Archives/edgar/data/320193/000162828016020309/aapl-20160924_lab.xml', 'type': 'EX-101.LAB', 'size': '925872'}, {'sequence': '15', 'description': 'XBRL TAXONOMY EXTENSION PRESENTATION LINKBASE DOCUMENT', 'documentUrl': 'https://www.sec.gov/Archives/edgar/data/320193/000162828016020309/aapl-20160924_pre.xml', 'type': 'EX-101.PRE', 'size': '526739'}], 'seriesAndClassesContractsInformation': []}]}\n"
     ]
    }
   ],
   "source": [
    "##########################\n",
    "# Python 3.x Example\n",
    "##########################\n",
    "\n",
    "# package used to execute HTTP POST request to the API\n",
    "import json\n",
    "import urllib.request\n",
    "\n",
    "# API Key\n",
    "TOKEN = --REDACTED-- \n",
    "# API endpoint\n",
    "API = \"https://api.sec-api.io?token=\" + TOKEN\n",
    "\n",
    "# define the filter parameters you want to send to the API \n",
    "payload = {\n",
    "  \"query\": { \"query_string\": { \"query\": \"cik:320193 AND filedAt:{2016-01-01 TO 2016-12-31} AND formType:\\\"10-K\\\"\" } },\n",
    "  \"from\": \"0\",\n",
    "  \"size\": \"10\",\n",
    "  \"sort\": [{ \"filedAt\": { \"order\": \"desc\" } }]\n",
    "}\n",
    "\n",
    "# format your payload to JSON bytes\n",
    "jsondata = json.dumps(payload)\n",
    "jsondataasbytes = jsondata.encode('utf-8')   # needs to be bytes\n",
    "\n",
    "# instantiate the request \n",
    "req = urllib.request.Request(API)\n",
    "\n",
    "# set the correct HTTP header: Content-Type = application/json\n",
    "req.add_header('Content-Type', 'application/json; charset=utf-8')\n",
    "# set the correct length of your request\n",
    "req.add_header('Content-Length', len(jsondataasbytes))\n",
    "\n",
    "# send the request to the API\n",
    "response = urllib.request.urlopen(req, jsondataasbytes)\n",
    "\n",
    "# read the response \n",
    "res_body = response.read()\n",
    "# transform the response into JSON\n",
    "filings = json.loads(res_body.decode(\"utf-8\"))\n",
    "\n",
    "# print JSON \n",
    "print(filings)"
   ]
  },
  {
   "cell_type": "code",
   "execution_count": null,
   "id": "centered-cyprus",
   "metadata": {},
   "outputs": [],
   "source": [
    "# test extracting information from query result"
   ]
  },
  {
   "cell_type": "code",
   "execution_count": 4,
   "id": "processed-filter",
   "metadata": {},
   "outputs": [],
   "source": [
    "file_list=[]"
   ]
  },
  {
   "cell_type": "code",
   "execution_count": 18,
   "id": "tutorial-bones",
   "metadata": {},
   "outputs": [],
   "source": [
    "for info in filings['filings']:\n",
    "    f = {}\n",
    "    f['cik_id'] = 123\n",
    "    f['id'] = info['id']\n",
    "    f['accessionNo'] = info['accessionNo']\n",
    "    f['ticker'] = info['ticker']\n",
    "    f['cik'] = info['cik']\n",
    "    f['companyName'] = info['companyName']\n",
    "    f['companyNameLong'] = info['companyNameLong']\n",
    "    f['formType'] = info['formType']\n",
    "    f['filedAt'] = info['filedAt']\n",
    "    f['linkToTxt'] = info['linkToTxt']\n",
    "    f['linkToHtml'] = info['linkToHtml']\n",
    "    f['irsNo'] = info['entities'][0]['irsNo']\n",
    "    f['fiscalYearEnd'] = info['entities'][0]['fiscalYearEnd']\n",
    "    f['sic'] = info['entities'][0]['sic']\n",
    "    file_list.append(f)"
   ]
  },
  {
   "cell_type": "code",
   "execution_count": 19,
   "id": "compressed-recovery",
   "metadata": {},
   "outputs": [
    {
     "data": {
      "text/plain": [
       "{'cik_id': 123,\n",
       " 'id': 'e29d4daf68bc8b591842c0ee04e43a01',\n",
       " 'accessionNo': '0001628280-16-020309',\n",
       " 'ticker': 'AAPL',\n",
       " 'cik': '320193',\n",
       " 'companyName': 'APPLE INC',\n",
       " 'companyNameLong': 'APPLE INC (Filer)',\n",
       " 'formType': '10-K',\n",
       " 'filedAt': '2016-10-26T16:42:16-04:00',\n",
       " 'linkToTxt': 'https://www.sec.gov/Archives/edgar/data/320193/000162828016020309/0001628280-16-020309.txt',\n",
       " 'linkToHtml': 'https://www.sec.gov/Archives/edgar/data/320193/0001628280-16-020309-index.htm',\n",
       " 'irsNo': '942404110',\n",
       " 'fiscalYearEnd': '0924',\n",
       " 'sic': '3571 Electronic Computers'}"
      ]
     },
     "execution_count": 19,
     "metadata": {},
     "output_type": "execute_result"
    }
   ],
   "source": [
    "f"
   ]
  },
  {
   "cell_type": "code",
   "execution_count": null,
   "id": "reported-subcommittee",
   "metadata": {},
   "outputs": [],
   "source": []
  }
 ],
 "metadata": {
  "kernelspec": {
   "display_name": "Python 3",
   "language": "python",
   "name": "python3"
  },
  "language_info": {
   "codemirror_mode": {
    "name": "ipython",
    "version": 3
   },
   "file_extension": ".py",
   "mimetype": "text/x-python",
   "name": "python",
   "nbconvert_exporter": "python",
   "pygments_lexer": "ipython3",
   "version": "3.8.2"
  }
 },
 "nbformat": 4,
 "nbformat_minor": 5
}
