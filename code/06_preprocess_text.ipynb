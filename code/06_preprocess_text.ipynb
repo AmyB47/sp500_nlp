{
 "cells": [
  {
   "cell_type": "code",
   "execution_count": null,
   "id": "eastern-basin",
   "metadata": {},
   "outputs": [],
   "source": [
    "\"\"\"\n",
    "preprocess text extracted from 10K reports\n",
    "ran one year at a time 2011-2020 to check output at each step\n",
    "\"\"\""
   ]
  },
  {
   "cell_type": "code",
   "execution_count": 128,
   "id": "sitting-calibration",
   "metadata": {},
   "outputs": [],
   "source": [
    "import pandas as pd\n",
    "import numpy as np\n",
    "import pickle\n",
    "import datetime\n",
    "\n",
    "import re\n",
    "import string\n",
    "\n",
    "import nltk\n",
    "from nltk.tokenize import word_tokenize\n",
    "from nltk.tag import pos_tag"
   ]
  },
  {
   "cell_type": "code",
   "execution_count": 222,
   "id": "statistical-foundation",
   "metadata": {},
   "outputs": [],
   "source": [
    "year = 2011"
   ]
  },
  {
   "cell_type": "code",
   "execution_count": 223,
   "id": "instant-deputy",
   "metadata": {},
   "outputs": [],
   "source": [
    "with open('text_risk_data_' + str(year) + '.pickle', 'rb') as read_file:\n",
    "    text_dict = pickle.load(read_file)\n",
    "    "
   ]
  },
  {
   "cell_type": "code",
   "execution_count": 224,
   "id": "turned-gasoline",
   "metadata": {},
   "outputs": [],
   "source": [
    "#check for errors and remove\n",
    "issues = {}\n",
    "for key, value in text_dict.items():\n",
    "    if value == \"error\":\n",
    "        issues[key] = value\n",
    "\n",
    "for key in issues.keys():\n",
    "    del text_dict[key]"
   ]
  },
  {
   "cell_type": "code",
   "execution_count": 225,
   "id": "civic-writing",
   "metadata": {},
   "outputs": [
    {
     "name": "stderr",
     "output_type": "stream",
     "text": [
      "<ipython-input-225-143a6599750f>:2: DeprecationWarning: The default dtype for empty Series will be 'object' instead of 'float64' in a future version. Specify a dtype explicitly to silence this warning.\n",
      "  text_df = pd.DataFrame(dict([(k,pd.Series(v)) for k,v in text_dict.items()])).melt().dropna()\n"
     ]
    }
   ],
   "source": [
    "#into df\n",
    "text_df = pd.DataFrame(dict([(k,pd.Series(v)) for k,v in text_dict.items()])).melt().dropna()"
   ]
  },
  {
   "cell_type": "code",
   "execution_count": 226,
   "id": "related-honey",
   "metadata": {},
   "outputs": [],
   "source": [
    "text_df[[\"ticker\", \"linkToTxt\"]] = text_df[\"variable\"].str.split(';', expand=True)\n",
    "del text_df[\"variable\"]"
   ]
  },
  {
   "cell_type": "code",
   "execution_count": 228,
   "id": "tracked-pioneer",
   "metadata": {},
   "outputs": [
    {
     "data": {
      "text/html": [
       "<div>\n",
       "<style scoped>\n",
       "    .dataframe tbody tr th:only-of-type {\n",
       "        vertical-align: middle;\n",
       "    }\n",
       "\n",
       "    .dataframe tbody tr th {\n",
       "        vertical-align: top;\n",
       "    }\n",
       "\n",
       "    .dataframe thead th {\n",
       "        text-align: right;\n",
       "    }\n",
       "</style>\n",
       "<table border=\"1\" class=\"dataframe\">\n",
       "  <thead>\n",
       "    <tr style=\"text-align: right;\">\n",
       "      <th></th>\n",
       "      <th>value</th>\n",
       "      <th>ticker</th>\n",
       "      <th>linkToTxt</th>\n",
       "    </tr>\n",
       "  </thead>\n",
       "  <tbody>\n",
       "    <tr>\n",
       "      <th>0</th>\n",
       "      <td>RISK FACTORS</td>\n",
       "      <td>SBAC</td>\n",
       "      <td>https://www.sec.gov/Archives/edgar/data/103405...</td>\n",
       "    </tr>\n",
       "    <tr>\n",
       "      <th>1</th>\n",
       "      <td>QUANTITATIVE AND QUALITATIVE DISCLOSURES ABOUT...</td>\n",
       "      <td>SBAC</td>\n",
       "      <td>https://www.sec.gov/Archives/edgar/data/103405...</td>\n",
       "    </tr>\n",
       "    <tr>\n",
       "      <th>2</th>\n",
       "      <td>ITEM 1A. RISK FACTORS</td>\n",
       "      <td>SBAC</td>\n",
       "      <td>https://www.sec.gov/Archives/edgar/data/103405...</td>\n",
       "    </tr>\n",
       "    <tr>\n",
       "      <th>3</th>\n",
       "      <td>Risks Related to Our Business</td>\n",
       "      <td>SBAC</td>\n",
       "      <td>https://www.sec.gov/Archives/edgar/data/103405...</td>\n",
       "    </tr>\n",
       "    <tr>\n",
       "      <th>4</th>\n",
       "      <td>Our foreign operations are subject to economic...</td>\n",
       "      <td>SBAC</td>\n",
       "      <td>https://www.sec.gov/Archives/edgar/data/103405...</td>\n",
       "    </tr>\n",
       "  </tbody>\n",
       "</table>\n",
       "</div>"
      ],
      "text/plain": [
       "                                               value ticker  \\\n",
       "0                                       RISK FACTORS   SBAC   \n",
       "1  QUANTITATIVE AND QUALITATIVE DISCLOSURES ABOUT...   SBAC   \n",
       "2                              ITEM 1A. RISK FACTORS   SBAC   \n",
       "3                     Risks Related to Our Business    SBAC   \n",
       "4  Our foreign operations are subject to economic...   SBAC   \n",
       "\n",
       "                                           linkToTxt  \n",
       "0  https://www.sec.gov/Archives/edgar/data/103405...  \n",
       "1  https://www.sec.gov/Archives/edgar/data/103405...  \n",
       "2  https://www.sec.gov/Archives/edgar/data/103405...  \n",
       "3  https://www.sec.gov/Archives/edgar/data/103405...  \n",
       "4  https://www.sec.gov/Archives/edgar/data/103405...  "
      ]
     },
     "execution_count": 228,
     "metadata": {},
     "output_type": "execute_result"
    }
   ],
   "source": [
    "text_df.head()"
   ]
  },
  {
   "cell_type": "code",
   "execution_count": 229,
   "id": "operational-average",
   "metadata": {},
   "outputs": [
    {
     "data": {
      "text/plain": [
       "(34584, 3)"
      ]
     },
     "execution_count": 229,
     "metadata": {},
     "output_type": "execute_result"
    }
   ],
   "source": [
    "# Remove duplicates\n",
    "text_df2 = text_df.drop_duplicates(subset=None, keep='first', inplace=False, ignore_index=False)\n",
    "text_df2.shape"
   ]
  },
  {
   "cell_type": "code",
   "execution_count": null,
   "id": "worse-plasma",
   "metadata": {},
   "outputs": [],
   "source": [
    "#### CLEAN TEXT"
   ]
  },
  {
   "cell_type": "code",
   "execution_count": 230,
   "id": "detected-ordinary",
   "metadata": {},
   "outputs": [
    {
     "name": "stderr",
     "output_type": "stream",
     "text": [
      "/Users/amybutler/opt/anaconda3/lib/python3.8/site-packages/pandas/core/strings/accessor.py:101: UserWarning: This pattern has match groups. To actually get the groups, use str.extract.\n",
      "  return func(self, *args, **kwargs)\n",
      "/Users/amybutler/opt/anaconda3/lib/python3.8/site-packages/pandas/core/indexing.py:1597: SettingWithCopyWarning: \n",
      "A value is trying to be set on a copy of a slice from a DataFrame.\n",
      "Try using .loc[row_indexer,col_indexer] = value instead\n",
      "\n",
      "See the caveats in the documentation: https://pandas.pydata.org/pandas-docs/stable/user_guide/indexing.html#returning-a-view-versus-a-copy\n",
      "  self.obj[key] = value\n",
      "/Users/amybutler/opt/anaconda3/lib/python3.8/site-packages/pandas/core/indexing.py:1676: SettingWithCopyWarning: \n",
      "A value is trying to be set on a copy of a slice from a DataFrame.\n",
      "Try using .loc[row_indexer,col_indexer] = value instead\n",
      "\n",
      "See the caveats in the documentation: https://pandas.pydata.org/pandas-docs/stable/user_guide/indexing.html#returning-a-view-versus-a-copy\n",
      "  self._setitem_single_column(ilocs[0], value, pi)\n"
     ]
    }
   ],
   "source": [
    "# first couple years of data pulls didn't filter to word boundaries\n",
    "text_df2.loc[:, 'keep'] = np.where(text_df2.loc[:, 'value'].str.contains( r\"(\\brisk\\b|\\brisks\\b)\", case=False, na=False), 1, 0)"
   ]
  },
  {
   "cell_type": "code",
   "execution_count": 231,
   "id": "nutritional-adjustment",
   "metadata": {},
   "outputs": [
    {
     "data": {
      "text/plain": [
       "1    34584\n",
       "Name: keep, dtype: int64"
      ]
     },
     "execution_count": 231,
     "metadata": {},
     "output_type": "execute_result"
    }
   ],
   "source": [
    "text_df2.keep.value_counts()"
   ]
  },
  {
   "cell_type": "code",
   "execution_count": 232,
   "id": "acoustic-prefix",
   "metadata": {},
   "outputs": [
    {
     "data": {
      "text/plain": [
       "(34584, 4)"
      ]
     },
     "execution_count": 232,
     "metadata": {},
     "output_type": "execute_result"
    }
   ],
   "source": [
    "the_keeps = text_df2[text_df2.keep == 1]\n",
    "the_keeps.shape"
   ]
  },
  {
   "cell_type": "code",
   "execution_count": 233,
   "id": "banned-matrix",
   "metadata": {},
   "outputs": [],
   "source": [
    "# Text preprocessing steps - remove HTML tags, numbers, and punctuation\n",
    "\n",
    "TAG_RE = re.compile(r'<[^>]+>')\n",
    "def remove_tags(text):\n",
    "    return TAG_RE.sub('', text)\n",
    "\n",
    "the_keeps.loc[:,'cleaned' ] = the_keeps.loc[:,'value'].apply(remove_tags)\n",
    "\n",
    "alphanumeric = lambda x: re.sub('\\w*\\d\\w*', ' ', x)\n",
    "punc_remove = lambda x: re.sub('[%s]' % re.escape(string.punctuation), ' ', x)\n",
    "\n",
    "the_keeps.loc[:,'preproc_text'] = the_keeps.loc[:,'cleaned'].map(alphanumeric).map(punc_remove)\n"
   ]
  },
  {
   "cell_type": "code",
   "execution_count": 234,
   "id": "internal-affairs",
   "metadata": {},
   "outputs": [
    {
     "data": {
      "text/html": [
       "<div>\n",
       "<style scoped>\n",
       "    .dataframe tbody tr th:only-of-type {\n",
       "        vertical-align: middle;\n",
       "    }\n",
       "\n",
       "    .dataframe tbody tr th {\n",
       "        vertical-align: top;\n",
       "    }\n",
       "\n",
       "    .dataframe thead th {\n",
       "        text-align: right;\n",
       "    }\n",
       "</style>\n",
       "<table border=\"1\" class=\"dataframe\">\n",
       "  <thead>\n",
       "    <tr style=\"text-align: right;\">\n",
       "      <th></th>\n",
       "      <th>value</th>\n",
       "      <th>ticker</th>\n",
       "      <th>linkToTxt</th>\n",
       "      <th>keep</th>\n",
       "      <th>cleaned</th>\n",
       "      <th>preproc_text</th>\n",
       "    </tr>\n",
       "  </thead>\n",
       "  <tbody>\n",
       "    <tr>\n",
       "      <th>0</th>\n",
       "      <td>RISK FACTORS</td>\n",
       "      <td>SBAC</td>\n",
       "      <td>https://www.sec.gov/Archives/edgar/data/103405...</td>\n",
       "      <td>1</td>\n",
       "      <td>RISK FACTORS</td>\n",
       "      <td>RISK FACTORS</td>\n",
       "    </tr>\n",
       "    <tr>\n",
       "      <th>1</th>\n",
       "      <td>QUANTITATIVE AND QUALITATIVE DISCLOSURES ABOUT...</td>\n",
       "      <td>SBAC</td>\n",
       "      <td>https://www.sec.gov/Archives/edgar/data/103405...</td>\n",
       "      <td>1</td>\n",
       "      <td>QUANTITATIVE AND QUALITATIVE DISCLOSURES ABOUT...</td>\n",
       "      <td>QUANTITATIVE AND QUALITATIVE DISCLOSURES ABOUT...</td>\n",
       "    </tr>\n",
       "    <tr>\n",
       "      <th>2</th>\n",
       "      <td>ITEM 1A. RISK FACTORS</td>\n",
       "      <td>SBAC</td>\n",
       "      <td>https://www.sec.gov/Archives/edgar/data/103405...</td>\n",
       "      <td>1</td>\n",
       "      <td>ITEM 1A. RISK FACTORS</td>\n",
       "      <td>ITEM    RISK FACTORS</td>\n",
       "    </tr>\n",
       "    <tr>\n",
       "      <th>3</th>\n",
       "      <td>Risks Related to Our Business</td>\n",
       "      <td>SBAC</td>\n",
       "      <td>https://www.sec.gov/Archives/edgar/data/103405...</td>\n",
       "      <td>1</td>\n",
       "      <td>Risks Related to Our Business</td>\n",
       "      <td>Risks Related to Our Business</td>\n",
       "    </tr>\n",
       "    <tr>\n",
       "      <th>4</th>\n",
       "      <td>Our foreign operations are subject to economic...</td>\n",
       "      <td>SBAC</td>\n",
       "      <td>https://www.sec.gov/Archives/edgar/data/103405...</td>\n",
       "      <td>1</td>\n",
       "      <td>Our foreign operations are subject to economic...</td>\n",
       "      <td>Our foreign operations are subject to economic...</td>\n",
       "    </tr>\n",
       "  </tbody>\n",
       "</table>\n",
       "</div>"
      ],
      "text/plain": [
       "                                               value ticker  \\\n",
       "0                                       RISK FACTORS   SBAC   \n",
       "1  QUANTITATIVE AND QUALITATIVE DISCLOSURES ABOUT...   SBAC   \n",
       "2                              ITEM 1A. RISK FACTORS   SBAC   \n",
       "3                     Risks Related to Our Business    SBAC   \n",
       "4  Our foreign operations are subject to economic...   SBAC   \n",
       "\n",
       "                                           linkToTxt  keep  \\\n",
       "0  https://www.sec.gov/Archives/edgar/data/103405...     1   \n",
       "1  https://www.sec.gov/Archives/edgar/data/103405...     1   \n",
       "2  https://www.sec.gov/Archives/edgar/data/103405...     1   \n",
       "3  https://www.sec.gov/Archives/edgar/data/103405...     1   \n",
       "4  https://www.sec.gov/Archives/edgar/data/103405...     1   \n",
       "\n",
       "                                             cleaned  \\\n",
       "0                                       RISK FACTORS   \n",
       "1  QUANTITATIVE AND QUALITATIVE DISCLOSURES ABOUT...   \n",
       "2                              ITEM 1A. RISK FACTORS   \n",
       "3                     Risks Related to Our Business    \n",
       "4  Our foreign operations are subject to economic...   \n",
       "\n",
       "                                        preproc_text  \n",
       "0                                       RISK FACTORS  \n",
       "1  QUANTITATIVE AND QUALITATIVE DISCLOSURES ABOUT...  \n",
       "2                               ITEM    RISK FACTORS  \n",
       "3                     Risks Related to Our Business   \n",
       "4  Our foreign operations are subject to economic...  "
      ]
     },
     "execution_count": 234,
     "metadata": {},
     "output_type": "execute_result"
    }
   ],
   "source": [
    "the_keeps.head()"
   ]
  },
  {
   "cell_type": "code",
   "execution_count": 235,
   "id": "invisible-necklace",
   "metadata": {},
   "outputs": [],
   "source": [
    "# add text length and will check for very long strings, each df row should be ~ 1-2 sentences\n",
    "the_keeps.loc[:,'value_len'] = the_keeps.loc[:,'value'].apply(lambda x : len(x))\n"
   ]
  },
  {
   "cell_type": "code",
   "execution_count": 236,
   "id": "further-trinity",
   "metadata": {},
   "outputs": [
    {
     "data": {
      "text/plain": [
       "Risk Factors                                                              329\n",
       "Risk-free interest rate                                                   205\n",
       "Quantitative and Qualitative Disclosures About Market Risk                179\n",
       "Interest Rate Risk                                                         64\n",
       "Quantitative and Qualitative Disclosures about Market Risk                 64\n",
       "                                                                         ... \n",
       "ITEM 7A.  QUANTITATIVE AND QUALITATIVE DISCLOSURES ABOUT MARKET\\nRISK       1\n",
       "Geographic Risk.                                                            1\n",
       "Item 1A — Risk Factors Related to NRG Energy,\\n Inc.                        1\n",
       "QUANTITATIVE   AND QUALITATIVE DISCLOSURES ABOUT MARKET RISK.               1\n",
       "Board Oversight\\n    of Risk                                                1\n",
       "Name: value, Length: 4432, dtype: int64"
      ]
     },
     "execution_count": 236,
     "metadata": {},
     "output_type": "execute_result"
    }
   ],
   "source": [
    "# check for any very short text strings\n",
    "the_keeps[the_keeps.value_len < 100].value.value_counts()"
   ]
  },
  {
   "cell_type": "code",
   "execution_count": 237,
   "id": "former-anxiety",
   "metadata": {},
   "outputs": [
    {
     "data": {
      "text/plain": [
       "(33105, 8)"
      ]
     },
     "execution_count": 237,
     "metadata": {},
     "output_type": "execute_result"
    }
   ],
   "source": [
    "## some of the shorter strings are the section headers\n",
    "## will remove the section headers\n",
    "      # Risk Factors \n",
    "      # Quantitative and Qualitative Disclosures About Market Risk  \n",
    "      # Quantitative and Qualitative Disclosures About Market Risks \n",
    "      # ITEM 1A. RISK FACTORS\n",
    "      # ITEM 7A. QUANTITATIVE AND QUALITATIVE DISCLOSURES ABOUT MARKET RISK\n",
    "        \n",
    "the_keeps['value2'] = the_keeps['value'].apply(lambda x: \" \".join(x.split()))\n",
    "\n",
    "headers = ['risk factors', 'quantitative and qualitative disclosures about market risk',\n",
    "          'quantitative and qualitative disclosures about market risk',\n",
    "          'item 1a. risk factors', 'item 7a. quantitative and qualitative disclosures about market risk']    \n",
    "\n",
    "\n",
    "f1_df = (the_keeps[~the_keeps['value2'].str.lower().isin(headers)])\n",
    "f1_df.shape"
   ]
  },
  {
   "cell_type": "code",
   "execution_count": 238,
   "id": "victorian-latter",
   "metadata": {},
   "outputs": [
    {
     "data": {
      "text/html": [
       "<div>\n",
       "<style scoped>\n",
       "    .dataframe tbody tr th:only-of-type {\n",
       "        vertical-align: middle;\n",
       "    }\n",
       "\n",
       "    .dataframe tbody tr th {\n",
       "        vertical-align: top;\n",
       "    }\n",
       "\n",
       "    .dataframe thead th {\n",
       "        text-align: right;\n",
       "    }\n",
       "</style>\n",
       "<table border=\"1\" class=\"dataframe\">\n",
       "  <thead>\n",
       "    <tr style=\"text-align: right;\">\n",
       "      <th></th>\n",
       "      <th>value</th>\n",
       "      <th>ticker</th>\n",
       "      <th>linkToTxt</th>\n",
       "      <th>keep</th>\n",
       "      <th>cleaned</th>\n",
       "      <th>preproc_text</th>\n",
       "      <th>value_len</th>\n",
       "      <th>value2</th>\n",
       "    </tr>\n",
       "  </thead>\n",
       "  <tbody>\n",
       "    <tr>\n",
       "      <th>1209</th>\n",
       "      <td>WZ'!93.\\nM[K._\\!UJ]+C&lt;=B89JZ:6NB?2-)C;W7NA(VU_...</td>\n",
       "      <td>SBAC</td>\n",
       "      <td>https://www.sec.gov/Archives/edgar/data/103405...</td>\n",
       "      <td>1</td>\n",
       "      <td>WZ'!93.\\nM[K._\\!UJ]+C6\\nM&amp;VCN'K:/:F.W7N:CR&amp;&amp;W[...</td>\n",
       "      <td>WZ    \\nM K    UJ   \\nM VCN K   F   CR  W NC  ...</td>\n",
       "      <td>3157845</td>\n",
       "      <td>WZ'!93. M[K._\\!UJ]+C&lt;=B89JZ:6NB?2-)C;W7NA(VU_,...</td>\n",
       "    </tr>\n",
       "    <tr>\n",
       "      <th>26370661</th>\n",
       "      <td>G\\/C]UJA%,7M\\nML;%(P3YVX?&amp;@@T=VP+W$78S7KHM!0'A...</td>\n",
       "      <td>MXIM</td>\n",
       "      <td>https://www.sec.gov/Archives/edgar/data/743316...</td>\n",
       "      <td>1</td>\n",
       "      <td>G\\/C]UJA%,7M\\nML;%(P3YVX?&amp;@@T=VP+W$78S7KHM!0'A...</td>\n",
       "      <td>G  C UJA   \\nML        T VP W     AG    M   KH...</td>\n",
       "      <td>14666579</td>\n",
       "      <td>G\\/C]UJA%,7M ML;%(P3YVX?&amp;@@T=VP+W$78S7KHM!0'AG...</td>\n",
       "    </tr>\n",
       "    <tr>\n",
       "      <th>32184859</th>\n",
       "      <td>(6)           Notice of the intention of the C...</td>\n",
       "      <td>NEE</td>\n",
       "      <td>https://www.sec.gov/Archives/edgar/data/753308...</td>\n",
       "      <td>1</td>\n",
       "      <td>(6)           Notice of the intention of the C...</td>\n",
       "      <td>Notice of the intention of the C...</td>\n",
       "      <td>39000285</td>\n",
       "      <td>(6) Notice of the intention of the Company to ...</td>\n",
       "    </tr>\n",
       "    <tr>\n",
       "      <th>37583383</th>\n",
       "      <td>R*^GR2?$VGW;44KK)#%O_`+2[?WCC6=&amp;#*:G\"\\nMY;?&lt;N&amp;...</td>\n",
       "      <td>AAP</td>\n",
       "      <td>https://www.sec.gov/Archives/edgar/data/115844...</td>\n",
       "      <td>1</td>\n",
       "      <td>R*^GR2?$VGW;44KK)#%O_`+2[?WCC6=&amp;#*:G\"\\nMY;?6,C...</td>\n",
       "      <td>R     VGW     O            G \\nMY    CZJ   M  ...</td>\n",
       "      <td>7406783</td>\n",
       "      <td>R*^GR2?$VGW;44KK)#%O_`+2[?WCC6=&amp;#*:G\" MY;?&lt;N&amp;K...</td>\n",
       "    </tr>\n",
       "    <tr>\n",
       "      <th>47135017</th>\n",
       "      <td>Entergy’s Utility operating companies’ rate sc...</td>\n",
       "      <td>ETR</td>\n",
       "      <td>https://www.sec.gov/Archives/edgar/data/65984/...</td>\n",
       "      <td>1</td>\n",
       "      <td>Entergy’s Utility operating companies’ rate sc...</td>\n",
       "      <td>Entergy’s Utility operating companies’ rate sc...</td>\n",
       "      <td>48716691</td>\n",
       "      <td>Entergy’s Utility operating companies’ rate sc...</td>\n",
       "    </tr>\n",
       "  </tbody>\n",
       "</table>\n",
       "</div>"
      ],
      "text/plain": [
       "                                                      value ticker  \\\n",
       "1209      WZ'!93.\\nM[K._\\!UJ]+C<=B89JZ:6NB?2-)C;W7NA(VU_...   SBAC   \n",
       "26370661  G\\/C]UJA%,7M\\nML;%(P3YVX?&@@T=VP+W$78S7KHM!0'A...   MXIM   \n",
       "32184859  (6)           Notice of the intention of the C...    NEE   \n",
       "37583383  R*^GR2?$VGW;44KK)#%O_`+2[?WCC6=&#*:G\"\\nMY;?<N&...    AAP   \n",
       "47135017  Entergy’s Utility operating companies’ rate sc...    ETR   \n",
       "\n",
       "                                                  linkToTxt  keep  \\\n",
       "1209      https://www.sec.gov/Archives/edgar/data/103405...     1   \n",
       "26370661  https://www.sec.gov/Archives/edgar/data/743316...     1   \n",
       "32184859  https://www.sec.gov/Archives/edgar/data/753308...     1   \n",
       "37583383  https://www.sec.gov/Archives/edgar/data/115844...     1   \n",
       "47135017  https://www.sec.gov/Archives/edgar/data/65984/...     1   \n",
       "\n",
       "                                                    cleaned  \\\n",
       "1209      WZ'!93.\\nM[K._\\!UJ]+C6\\nM&VCN'K:/:F.W7N:CR&&W[...   \n",
       "26370661  G\\/C]UJA%,7M\\nML;%(P3YVX?&@@T=VP+W$78S7KHM!0'A...   \n",
       "32184859  (6)           Notice of the intention of the C...   \n",
       "37583383  R*^GR2?$VGW;44KK)#%O_`+2[?WCC6=&#*:G\"\\nMY;?6,C...   \n",
       "47135017  Entergy’s Utility operating companies’ rate sc...   \n",
       "\n",
       "                                               preproc_text  value_len  \\\n",
       "1209      WZ    \\nM K    UJ   \\nM VCN K   F   CR  W NC  ...    3157845   \n",
       "26370661  G  C UJA   \\nML        T VP W     AG    M   KH...   14666579   \n",
       "32184859                Notice of the intention of the C...   39000285   \n",
       "37583383  R     VGW     O            G \\nMY    CZJ   M  ...    7406783   \n",
       "47135017  Entergy’s Utility operating companies’ rate sc...   48716691   \n",
       "\n",
       "                                                     value2  \n",
       "1209      WZ'!93. M[K._\\!UJ]+C<=B89JZ:6NB?2-)C;W7NA(VU_,...  \n",
       "26370661  G\\/C]UJA%,7M ML;%(P3YVX?&@@T=VP+W$78S7KHM!0'AG...  \n",
       "32184859  (6) Notice of the intention of the Company to ...  \n",
       "37583383  R*^GR2?$VGW;44KK)#%O_`+2[?WCC6=&#*:G\" MY;?<N&K...  \n",
       "47135017  Entergy’s Utility operating companies’ rate sc...  "
      ]
     },
     "execution_count": 238,
     "metadata": {},
     "output_type": "execute_result"
    }
   ],
   "source": [
    "# check for any very long text strings\n",
    "f1_df[f1_df.value_len > 10_000].head()\n"
   ]
  },
  {
   "cell_type": "code",
   "execution_count": 239,
   "id": "southern-objective",
   "metadata": {},
   "outputs": [
    {
     "data": {
      "text/plain": [
       "5"
      ]
     },
     "execution_count": 239,
     "metadata": {},
     "output_type": "execute_result"
    }
   ],
   "source": [
    "len(f1_df[f1_df.value_len > 10_000].head())"
   ]
  },
  {
   "cell_type": "code",
   "execution_count": 240,
   "id": "removed-opera",
   "metadata": {},
   "outputs": [
    {
     "data": {
      "text/plain": [
       "(33086, 8)"
      ]
     },
     "execution_count": 240,
     "metadata": {},
     "output_type": "execute_result"
    }
   ],
   "source": [
    "# remove the strings over 10K that are some code and not text content\n",
    "f2_df = f1_df[f1_df.value_len < 10_000]\n",
    "f2_df.shape"
   ]
  },
  {
   "cell_type": "code",
   "execution_count": null,
   "id": "worldwide-bidding",
   "metadata": {},
   "outputs": [],
   "source": [
    "#f2_df.to_excel('f2_df_review.xlsx', index=False)"
   ]
  },
  {
   "cell_type": "code",
   "execution_count": null,
   "id": "postal-indianapolis",
   "metadata": {},
   "outputs": [],
   "source": [
    "################\n"
   ]
  },
  {
   "cell_type": "code",
   "execution_count": 241,
   "id": "chubby-prince",
   "metadata": {},
   "outputs": [
    {
     "data": {
      "text/html": [
       "<div>\n",
       "<style scoped>\n",
       "    .dataframe tbody tr th:only-of-type {\n",
       "        vertical-align: middle;\n",
       "    }\n",
       "\n",
       "    .dataframe tbody tr th {\n",
       "        vertical-align: top;\n",
       "    }\n",
       "\n",
       "    .dataframe thead th {\n",
       "        text-align: right;\n",
       "    }\n",
       "</style>\n",
       "<table border=\"1\" class=\"dataframe\">\n",
       "  <thead>\n",
       "    <tr style=\"text-align: right;\">\n",
       "      <th></th>\n",
       "      <th>value</th>\n",
       "      <th>ticker</th>\n",
       "      <th>linkToTxt</th>\n",
       "      <th>keep</th>\n",
       "      <th>cleaned</th>\n",
       "      <th>preproc_text</th>\n",
       "      <th>value_len</th>\n",
       "      <th>value2</th>\n",
       "    </tr>\n",
       "  </thead>\n",
       "  <tbody>\n",
       "    <tr>\n",
       "      <th>3</th>\n",
       "      <td>Risks Related to Our Business</td>\n",
       "      <td>SBAC</td>\n",
       "      <td>https://www.sec.gov/Archives/edgar/data/103405...</td>\n",
       "      <td>1</td>\n",
       "      <td>Risks Related to Our Business</td>\n",
       "      <td>Risks Related to Our Business</td>\n",
       "      <td>30</td>\n",
       "      <td>Risks Related to Our Business</td>\n",
       "    </tr>\n",
       "    <tr>\n",
       "      <th>4</th>\n",
       "      <td>Our foreign operations are subject to economic...</td>\n",
       "      <td>SBAC</td>\n",
       "      <td>https://www.sec.gov/Archives/edgar/data/103405...</td>\n",
       "      <td>1</td>\n",
       "      <td>Our foreign operations are subject to economic...</td>\n",
       "      <td>Our foreign operations are subject to economic...</td>\n",
       "      <td>218</td>\n",
       "      <td>Our foreign operations are subject to economic...</td>\n",
       "    </tr>\n",
       "    <tr>\n",
       "      <th>5</th>\n",
       "      <td>Our current business operations in Canada, Cos...</td>\n",
       "      <td>SBAC</td>\n",
       "      <td>https://www.sec.gov/Archives/edgar/data/103405...</td>\n",
       "      <td>1</td>\n",
       "      <td>Our current business operations in Canada, Cos...</td>\n",
       "      <td>Our current business operations in Canada  Cos...</td>\n",
       "      <td>623</td>\n",
       "      <td>Our current business operations in Canada, Cos...</td>\n",
       "    </tr>\n",
       "    <tr>\n",
       "      <th>6</th>\n",
       "      <td>The majority of our international operations a...</td>\n",
       "      <td>SBAC</td>\n",
       "      <td>https://www.sec.gov/Archives/edgar/data/103405...</td>\n",
       "      <td>1</td>\n",
       "      <td>The majority of our international operations a...</td>\n",
       "      <td>The majority of our international operations a...</td>\n",
       "      <td>494</td>\n",
       "      <td>The majority of our international operations a...</td>\n",
       "    </tr>\n",
       "    <tr>\n",
       "      <th>7</th>\n",
       "      <td>Due to these risks, it may take\\nlonger to com...</td>\n",
       "      <td>SBAC</td>\n",
       "      <td>https://www.sec.gov/Archives/edgar/data/103405...</td>\n",
       "      <td>1</td>\n",
       "      <td>Due to these risks, it may take\\nlonger to com...</td>\n",
       "      <td>Due to these risks  it may take\\nlonger to com...</td>\n",
       "      <td>380</td>\n",
       "      <td>Due to these risks, it may take longer to comp...</td>\n",
       "    </tr>\n",
       "  </tbody>\n",
       "</table>\n",
       "</div>"
      ],
      "text/plain": [
       "                                               value ticker  \\\n",
       "3                     Risks Related to Our Business    SBAC   \n",
       "4  Our foreign operations are subject to economic...   SBAC   \n",
       "5  Our current business operations in Canada, Cos...   SBAC   \n",
       "6  The majority of our international operations a...   SBAC   \n",
       "7  Due to these risks, it may take\\nlonger to com...   SBAC   \n",
       "\n",
       "                                           linkToTxt  keep  \\\n",
       "3  https://www.sec.gov/Archives/edgar/data/103405...     1   \n",
       "4  https://www.sec.gov/Archives/edgar/data/103405...     1   \n",
       "5  https://www.sec.gov/Archives/edgar/data/103405...     1   \n",
       "6  https://www.sec.gov/Archives/edgar/data/103405...     1   \n",
       "7  https://www.sec.gov/Archives/edgar/data/103405...     1   \n",
       "\n",
       "                                             cleaned  \\\n",
       "3                     Risks Related to Our Business    \n",
       "4  Our foreign operations are subject to economic...   \n",
       "5  Our current business operations in Canada, Cos...   \n",
       "6  The majority of our international operations a...   \n",
       "7  Due to these risks, it may take\\nlonger to com...   \n",
       "\n",
       "                                        preproc_text  value_len  \\\n",
       "3                     Risks Related to Our Business          30   \n",
       "4  Our foreign operations are subject to economic...        218   \n",
       "5  Our current business operations in Canada  Cos...        623   \n",
       "6  The majority of our international operations a...        494   \n",
       "7  Due to these risks  it may take\\nlonger to com...        380   \n",
       "\n",
       "                                              value2  \n",
       "3                      Risks Related to Our Business  \n",
       "4  Our foreign operations are subject to economic...  \n",
       "5  Our current business operations in Canada, Cos...  \n",
       "6  The majority of our international operations a...  \n",
       "7  Due to these risks, it may take longer to comp...  "
      ]
     },
     "execution_count": 241,
     "metadata": {},
     "output_type": "execute_result"
    }
   ],
   "source": [
    "f2_df.head()"
   ]
  },
  {
   "cell_type": "code",
   "execution_count": 242,
   "id": "minimal-curtis",
   "metadata": {},
   "outputs": [],
   "source": [
    "f3_df = f2_df.drop(['value_len', 'value2', 'cleaned', 'keep'], axis=1, inplace=False)"
   ]
  },
  {
   "cell_type": "code",
   "execution_count": 243,
   "id": "aerial-clone",
   "metadata": {},
   "outputs": [
    {
     "data": {
      "text/html": [
       "<div>\n",
       "<style scoped>\n",
       "    .dataframe tbody tr th:only-of-type {\n",
       "        vertical-align: middle;\n",
       "    }\n",
       "\n",
       "    .dataframe tbody tr th {\n",
       "        vertical-align: top;\n",
       "    }\n",
       "\n",
       "    .dataframe thead th {\n",
       "        text-align: right;\n",
       "    }\n",
       "</style>\n",
       "<table border=\"1\" class=\"dataframe\">\n",
       "  <thead>\n",
       "    <tr style=\"text-align: right;\">\n",
       "      <th></th>\n",
       "      <th>value</th>\n",
       "      <th>ticker</th>\n",
       "      <th>linkToTxt</th>\n",
       "      <th>preproc_text</th>\n",
       "    </tr>\n",
       "  </thead>\n",
       "  <tbody>\n",
       "    <tr>\n",
       "      <th>3</th>\n",
       "      <td>Risks Related to Our Business</td>\n",
       "      <td>SBAC</td>\n",
       "      <td>https://www.sec.gov/Archives/edgar/data/103405...</td>\n",
       "      <td>Risks Related to Our Business</td>\n",
       "    </tr>\n",
       "    <tr>\n",
       "      <th>4</th>\n",
       "      <td>Our foreign operations are subject to economic...</td>\n",
       "      <td>SBAC</td>\n",
       "      <td>https://www.sec.gov/Archives/edgar/data/103405...</td>\n",
       "      <td>Our foreign operations are subject to economic...</td>\n",
       "    </tr>\n",
       "    <tr>\n",
       "      <th>5</th>\n",
       "      <td>Our current business operations in Canada, Cos...</td>\n",
       "      <td>SBAC</td>\n",
       "      <td>https://www.sec.gov/Archives/edgar/data/103405...</td>\n",
       "      <td>Our current business operations in Canada  Cos...</td>\n",
       "    </tr>\n",
       "    <tr>\n",
       "      <th>6</th>\n",
       "      <td>The majority of our international operations a...</td>\n",
       "      <td>SBAC</td>\n",
       "      <td>https://www.sec.gov/Archives/edgar/data/103405...</td>\n",
       "      <td>The majority of our international operations a...</td>\n",
       "    </tr>\n",
       "    <tr>\n",
       "      <th>7</th>\n",
       "      <td>Due to these risks, it may take\\nlonger to com...</td>\n",
       "      <td>SBAC</td>\n",
       "      <td>https://www.sec.gov/Archives/edgar/data/103405...</td>\n",
       "      <td>Due to these risks  it may take\\nlonger to com...</td>\n",
       "    </tr>\n",
       "  </tbody>\n",
       "</table>\n",
       "</div>"
      ],
      "text/plain": [
       "                                               value ticker  \\\n",
       "3                     Risks Related to Our Business    SBAC   \n",
       "4  Our foreign operations are subject to economic...   SBAC   \n",
       "5  Our current business operations in Canada, Cos...   SBAC   \n",
       "6  The majority of our international operations a...   SBAC   \n",
       "7  Due to these risks, it may take\\nlonger to com...   SBAC   \n",
       "\n",
       "                                           linkToTxt  \\\n",
       "3  https://www.sec.gov/Archives/edgar/data/103405...   \n",
       "4  https://www.sec.gov/Archives/edgar/data/103405...   \n",
       "5  https://www.sec.gov/Archives/edgar/data/103405...   \n",
       "6  https://www.sec.gov/Archives/edgar/data/103405...   \n",
       "7  https://www.sec.gov/Archives/edgar/data/103405...   \n",
       "\n",
       "                                        preproc_text  \n",
       "3                     Risks Related to Our Business   \n",
       "4  Our foreign operations are subject to economic...  \n",
       "5  Our current business operations in Canada  Cos...  \n",
       "6  The majority of our international operations a...  \n",
       "7  Due to these risks  it may take\\nlonger to com...  "
      ]
     },
     "execution_count": 243,
     "metadata": {},
     "output_type": "execute_result"
    }
   ],
   "source": [
    "f3_df.head()"
   ]
  },
  {
   "cell_type": "code",
   "execution_count": 244,
   "id": "boxed-society",
   "metadata": {},
   "outputs": [],
   "source": [
    "with open('../data/preproc/preproc_text_' + str(year) + '.pickle', 'wb') as to_write:\n",
    "    pickle.dump(f3_df, to_write)"
   ]
  },
  {
   "cell_type": "code",
   "execution_count": null,
   "id": "apart-catholic",
   "metadata": {},
   "outputs": [],
   "source": []
  },
  {
   "cell_type": "code",
   "execution_count": null,
   "id": "marine-onion",
   "metadata": {},
   "outputs": [],
   "source": []
  }
 ],
 "metadata": {
  "kernelspec": {
   "display_name": "Python 3",
   "language": "python",
   "name": "python3"
  },
  "language_info": {
   "codemirror_mode": {
    "name": "ipython",
    "version": 3
   },
   "file_extension": ".py",
   "mimetype": "text/x-python",
   "name": "python",
   "nbconvert_exporter": "python",
   "pygments_lexer": "ipython3",
   "version": "3.8.2"
  }
 },
 "nbformat": 4,
 "nbformat_minor": 5
}
